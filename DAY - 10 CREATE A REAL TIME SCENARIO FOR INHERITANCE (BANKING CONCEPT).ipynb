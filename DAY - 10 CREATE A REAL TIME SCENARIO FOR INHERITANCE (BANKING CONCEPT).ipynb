{
 "cells": [
  {
   "cell_type": "markdown",
   "id": "1204f1f3",
   "metadata": {},
   "source": [
    "# DAY 10 CREATE A REAL TIME SCENARIO FOR INHERITANCE \n",
    "BANKING CONCEPT \n",
    "\n",
    "NAME : KAVIYA V"
   ]
  },
  {
   "cell_type": "code",
   "execution_count": 1,
   "id": "536805f8",
   "metadata": {},
   "outputs": [
    {
     "name": "stdout",
     "output_type": "stream",
     "text": [
      "300  deposit Successful\n",
      "200  withdraw Successful\n",
      "Current Balance:  1100\n",
      "Interest: 379.50\n"
     ]
    }
   ],
   "source": [
    "class Account:\n",
    "    balance=0\n",
    "    def __init__(self, balance):\n",
    "        self.balance=balance\n",
    "    def check_balance(self):\n",
    "        print(\"Current Balance: \",self.balance)\n",
    "    def deposit(self,amt):\n",
    "        self.balance+=amt\n",
    "        print(amt,\" deposit Successful\")\n",
    "    def withdraw(self, amt):\n",
    "        if(amt > self.balance):\n",
    "            print(\"Insufficient Balance\")\n",
    "            return\n",
    "        self.balance-=amt\n",
    "        print(amt,\" withdraw Successful\")\n",
    "class SavingAccount(Account):\n",
    "    rate = 6.9\n",
    "    def __init__(self, balance):\n",
    "        super().__init__(balance)\n",
    "    def interest(self, months):\n",
    "            print(\"Interest: %.2f\"%(self.balance*(self.rate/100)*months))\n",
    "account=SavingAccount(1000)\n",
    "account.deposit(300)\n",
    "account.withdraw(200)\n",
    "account.check_balance()\n",
    "account.interest(5)"
   ]
  },
  {
   "cell_type": "code",
   "execution_count": null,
   "id": "30d9f551",
   "metadata": {},
   "outputs": [],
   "source": []
  }
 ],
 "metadata": {
  "kernelspec": {
   "display_name": "Python 3",
   "language": "python",
   "name": "python3"
  },
  "language_info": {
   "codemirror_mode": {
    "name": "ipython",
    "version": 3
   },
   "file_extension": ".py",
   "mimetype": "text/x-python",
   "name": "python",
   "nbconvert_exporter": "python",
   "pygments_lexer": "ipython3",
   "version": "3.8.8"
  }
 },
 "nbformat": 4,
 "nbformat_minor": 5
}
