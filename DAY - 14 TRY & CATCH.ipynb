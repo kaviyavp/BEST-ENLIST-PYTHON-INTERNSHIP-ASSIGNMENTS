{
 "cells": [
  {
   "cell_type": "markdown",
   "id": "2fa6bcec",
   "metadata": {},
   "source": [
    "# DAY 14 TRY & CATCH\n",
    "NAME : KAVIYA V"
   ]
  },
  {
   "cell_type": "markdown",
   "id": "d3e15ea8",
   "metadata": {},
   "source": [
    "List down all the error types and check all the errors using a python program for all errors"
   ]
  },
  {
   "cell_type": "markdown",
   "id": "2ffc823b",
   "metadata": {},
   "source": [
    "IndexError"
   ]
  },
  {
   "cell_type": "code",
   "execution_count": 1,
   "id": "926d2a76",
   "metadata": {},
   "outputs": [
    {
     "ename": "IndexError",
     "evalue": "list index out of range",
     "output_type": "error",
     "traceback": [
      "\u001b[1;31m---------------------------------------------------------------------------\u001b[0m",
      "\u001b[1;31mIndexError\u001b[0m                                Traceback (most recent call last)",
      "\u001b[1;32m<ipython-input-1-30c160f9e63a>\u001b[0m in \u001b[0;36m<module>\u001b[1;34m\u001b[0m\n\u001b[0;32m      1\u001b[0m \u001b[0mL1\u001b[0m\u001b[1;33m=\u001b[0m\u001b[1;33m[\u001b[0m\u001b[1;36m1\u001b[0m\u001b[1;33m,\u001b[0m\u001b[1;36m2\u001b[0m\u001b[1;33m,\u001b[0m\u001b[1;36m3\u001b[0m\u001b[1;33m]\u001b[0m\u001b[1;33m\u001b[0m\u001b[1;33m\u001b[0m\u001b[0m\n\u001b[1;32m----> 2\u001b[1;33m \u001b[0mL1\u001b[0m\u001b[1;33m[\u001b[0m\u001b[1;36m3\u001b[0m\u001b[1;33m]\u001b[0m\u001b[1;33m\u001b[0m\u001b[1;33m\u001b[0m\u001b[0m\n\u001b[0m",
      "\u001b[1;31mIndexError\u001b[0m: list index out of range"
     ]
    }
   ],
   "source": [
    "L1=[1,2,3]\n",
    "L1[3]"
   ]
  },
  {
   "cell_type": "markdown",
   "id": "5186483e",
   "metadata": {},
   "source": [
    "ModuleNotFoundError"
   ]
  },
  {
   "cell_type": "code",
   "execution_count": 2,
   "id": "aed89612",
   "metadata": {},
   "outputs": [
    {
     "ename": "ModuleNotFoundError",
     "evalue": "No module named 'notamodule'",
     "output_type": "error",
     "traceback": [
      "\u001b[1;31m---------------------------------------------------------------------------\u001b[0m",
      "\u001b[1;31mModuleNotFoundError\u001b[0m                       Traceback (most recent call last)",
      "\u001b[1;32m<ipython-input-2-6529f882604c>\u001b[0m in \u001b[0;36m<module>\u001b[1;34m\u001b[0m\n\u001b[1;32m----> 1\u001b[1;33m \u001b[1;32mimport\u001b[0m \u001b[0mnotamodule\u001b[0m\u001b[1;33m\u001b[0m\u001b[1;33m\u001b[0m\u001b[0m\n\u001b[0m",
      "\u001b[1;31mModuleNotFoundError\u001b[0m: No module named 'notamodule'"
     ]
    }
   ],
   "source": [
    "import notamodule"
   ]
  },
  {
   "cell_type": "markdown",
   "id": "bf3c9d66",
   "metadata": {},
   "source": [
    "KeyError"
   ]
  },
  {
   "cell_type": "code",
   "execution_count": 3,
   "id": "6cfc560f",
   "metadata": {},
   "outputs": [
    {
     "ename": "KeyError",
     "evalue": "'4'",
     "output_type": "error",
     "traceback": [
      "\u001b[1;31m---------------------------------------------------------------------------\u001b[0m",
      "\u001b[1;31mKeyError\u001b[0m                                  Traceback (most recent call last)",
      "\u001b[1;32m<ipython-input-3-f52f27d9b297>\u001b[0m in \u001b[0;36m<module>\u001b[1;34m\u001b[0m\n\u001b[0;32m      1\u001b[0m \u001b[0mD1\u001b[0m\u001b[1;33m=\u001b[0m\u001b[1;33m{\u001b[0m\u001b[1;34m'1'\u001b[0m\u001b[1;33m:\u001b[0m\u001b[1;34m\"aa\"\u001b[0m\u001b[1;33m,\u001b[0m\u001b[1;34m'2'\u001b[0m\u001b[1;33m:\u001b[0m\u001b[1;34m\"bb\"\u001b[0m\u001b[1;33m,\u001b[0m\u001b[1;34m'3'\u001b[0m\u001b[1;33m:\u001b[0m\u001b[1;34m\"cc\"\u001b[0m\u001b[1;33m}\u001b[0m\u001b[1;33m\u001b[0m\u001b[1;33m\u001b[0m\u001b[0m\n\u001b[1;32m----> 2\u001b[1;33m \u001b[0mD1\u001b[0m\u001b[1;33m[\u001b[0m\u001b[1;34m'4'\u001b[0m\u001b[1;33m]\u001b[0m\u001b[1;33m\u001b[0m\u001b[1;33m\u001b[0m\u001b[0m\n\u001b[0m",
      "\u001b[1;31mKeyError\u001b[0m: '4'"
     ]
    }
   ],
   "source": [
    "D1={'1':\"aa\",'2':\"bb\",'3':\"cc\"}\n",
    "D1['4']"
   ]
  },
  {
   "cell_type": "markdown",
   "id": "ee454b52",
   "metadata": {},
   "source": [
    "ImportError"
   ]
  },
  {
   "cell_type": "code",
   "execution_count": 4,
   "id": "30a51215",
   "metadata": {},
   "outputs": [
    {
     "ename": "ImportError",
     "evalue": "cannot import name 'cube' from 'math' (unknown location)",
     "output_type": "error",
     "traceback": [
      "\u001b[1;31m---------------------------------------------------------------------------\u001b[0m",
      "\u001b[1;31mImportError\u001b[0m                               Traceback (most recent call last)",
      "\u001b[1;32m<ipython-input-4-ffce77e55cf3>\u001b[0m in \u001b[0;36m<module>\u001b[1;34m\u001b[0m\n\u001b[1;32m----> 1\u001b[1;33m \u001b[1;32mfrom\u001b[0m \u001b[0mmath\u001b[0m \u001b[1;32mimport\u001b[0m \u001b[0mcube\u001b[0m\u001b[1;33m\u001b[0m\u001b[1;33m\u001b[0m\u001b[0m\n\u001b[0m",
      "\u001b[1;31mImportError\u001b[0m: cannot import name 'cube' from 'math' (unknown location)"
     ]
    }
   ],
   "source": [
    "from math import cube"
   ]
  },
  {
   "cell_type": "markdown",
   "id": "b8478aab",
   "metadata": {},
   "source": [
    "StopIteration"
   ]
  },
  {
   "cell_type": "code",
   "execution_count": 5,
   "id": "379ed296",
   "metadata": {},
   "outputs": [
    {
     "ename": "StopIteration",
     "evalue": "",
     "output_type": "error",
     "traceback": [
      "\u001b[1;31m---------------------------------------------------------------------------\u001b[0m",
      "\u001b[1;31mStopIteration\u001b[0m                             Traceback (most recent call last)",
      "\u001b[1;32m<ipython-input-5-1e090b245ab9>\u001b[0m in \u001b[0;36m<module>\u001b[1;34m\u001b[0m\n\u001b[0;32m      3\u001b[0m \u001b[0mnext\u001b[0m\u001b[1;33m(\u001b[0m\u001b[0mit\u001b[0m\u001b[1;33m)\u001b[0m\u001b[1;33m\u001b[0m\u001b[1;33m\u001b[0m\u001b[0m\n\u001b[0;32m      4\u001b[0m \u001b[0mnext\u001b[0m\u001b[1;33m(\u001b[0m\u001b[0mit\u001b[0m\u001b[1;33m)\u001b[0m\u001b[1;33m\u001b[0m\u001b[1;33m\u001b[0m\u001b[0m\n\u001b[1;32m----> 5\u001b[1;33m \u001b[0mnext\u001b[0m\u001b[1;33m(\u001b[0m\u001b[0mit\u001b[0m\u001b[1;33m)\u001b[0m\u001b[1;33m\u001b[0m\u001b[1;33m\u001b[0m\u001b[0m\n\u001b[0m",
      "\u001b[1;31mStopIteration\u001b[0m: "
     ]
    }
   ],
   "source": [
    "it=iter([1,2,3])\n",
    "next(it)\n",
    "next(it)\n",
    "next(it)\n",
    "next(it)"
   ]
  },
  {
   "cell_type": "markdown",
   "id": "8192a9fb",
   "metadata": {},
   "source": [
    "TypeError"
   ]
  },
  {
   "cell_type": "code",
   "execution_count": 6,
   "id": "78f9624e",
   "metadata": {
    "scrolled": true
   },
   "outputs": [
    {
     "ename": "TypeError",
     "evalue": "can only concatenate str (not \"int\") to str",
     "output_type": "error",
     "traceback": [
      "\u001b[1;31m---------------------------------------------------------------------------\u001b[0m",
      "\u001b[1;31mTypeError\u001b[0m                                 Traceback (most recent call last)",
      "\u001b[1;32m<ipython-input-6-7e1e50100c0b>\u001b[0m in \u001b[0;36m<module>\u001b[1;34m\u001b[0m\n\u001b[1;32m----> 1\u001b[1;33m \u001b[1;34m'2'\u001b[0m\u001b[1;33m+\u001b[0m\u001b[1;36m2\u001b[0m\u001b[1;33m\u001b[0m\u001b[1;33m\u001b[0m\u001b[0m\n\u001b[0m",
      "\u001b[1;31mTypeError\u001b[0m: can only concatenate str (not \"int\") to str"
     ]
    }
   ],
   "source": [
    "'2'+2"
   ]
  },
  {
   "cell_type": "markdown",
   "id": "dd342e1f",
   "metadata": {},
   "source": [
    "ValueError"
   ]
  },
  {
   "cell_type": "code",
   "execution_count": 7,
   "id": "049060b4",
   "metadata": {},
   "outputs": [
    {
     "ename": "ValueError",
     "evalue": "invalid literal for int() with base 10: 'xyz'",
     "output_type": "error",
     "traceback": [
      "\u001b[1;31m---------------------------------------------------------------------------\u001b[0m",
      "\u001b[1;31mValueError\u001b[0m                                Traceback (most recent call last)",
      "\u001b[1;32m<ipython-input-7-f9171139ba2a>\u001b[0m in \u001b[0;36m<module>\u001b[1;34m\u001b[0m\n\u001b[1;32m----> 1\u001b[1;33m \u001b[0mint\u001b[0m\u001b[1;33m(\u001b[0m\u001b[1;34m'xyz'\u001b[0m\u001b[1;33m)\u001b[0m\u001b[1;33m\u001b[0m\u001b[1;33m\u001b[0m\u001b[0m\n\u001b[0m",
      "\u001b[1;31mValueError\u001b[0m: invalid literal for int() with base 10: 'xyz'"
     ]
    }
   ],
   "source": [
    "int('xyz')"
   ]
  },
  {
   "cell_type": "markdown",
   "id": "bc9b1bc7",
   "metadata": {},
   "source": [
    "NameError"
   ]
  },
  {
   "cell_type": "code",
   "execution_count": 8,
   "id": "db98d6d0",
   "metadata": {},
   "outputs": [
    {
     "ename": "NameError",
     "evalue": "name 'age' is not defined",
     "output_type": "error",
     "traceback": [
      "\u001b[1;31m---------------------------------------------------------------------------\u001b[0m",
      "\u001b[1;31mNameError\u001b[0m                                 Traceback (most recent call last)",
      "\u001b[1;32m<ipython-input-8-d075b0315d53>\u001b[0m in \u001b[0;36m<module>\u001b[1;34m\u001b[0m\n\u001b[1;32m----> 1\u001b[1;33m \u001b[0mage\u001b[0m\u001b[1;33m\u001b[0m\u001b[1;33m\u001b[0m\u001b[0m\n\u001b[0m",
      "\u001b[1;31mNameError\u001b[0m: name 'age' is not defined"
     ]
    }
   ],
   "source": [
    "age"
   ]
  },
  {
   "cell_type": "markdown",
   "id": "89cd3838",
   "metadata": {},
   "source": [
    "ZeroDivisionError"
   ]
  },
  {
   "cell_type": "code",
   "execution_count": 9,
   "id": "8c9e73b4",
   "metadata": {},
   "outputs": [
    {
     "ename": "ZeroDivisionError",
     "evalue": "division by zero",
     "output_type": "error",
     "traceback": [
      "\u001b[1;31m---------------------------------------------------------------------------\u001b[0m",
      "\u001b[1;31mZeroDivisionError\u001b[0m                         Traceback (most recent call last)",
      "\u001b[1;32m<ipython-input-9-fc4fba679132>\u001b[0m in \u001b[0;36m<module>\u001b[1;34m\u001b[0m\n\u001b[1;32m----> 1\u001b[1;33m \u001b[0mx\u001b[0m\u001b[1;33m=\u001b[0m\u001b[1;36m100\u001b[0m\u001b[1;33m/\u001b[0m\u001b[1;36m0\u001b[0m\u001b[1;33m\u001b[0m\u001b[1;33m\u001b[0m\u001b[0m\n\u001b[0m",
      "\u001b[1;31mZeroDivisionError\u001b[0m: division by zero"
     ]
    }
   ],
   "source": [
    "x=100/0"
   ]
  },
  {
   "cell_type": "markdown",
   "id": "2b1c38a4",
   "metadata": {},
   "source": [
    "KeyboardInterrupt"
   ]
  },
  {
   "cell_type": "code",
   "execution_count": 12,
   "id": "aed81259",
   "metadata": {},
   "outputs": [
    {
     "name": "stdout",
     "output_type": "stream",
     "text": [
      "enter your name^C\n"
     ]
    }
   ],
   "source": [
    "name=input('enter your name')"
   ]
  },
  {
   "cell_type": "markdown",
   "id": "d20a0b03",
   "metadata": {},
   "source": [
    "Try getting an input inside the try catch block"
   ]
  },
  {
   "cell_type": "code",
   "execution_count": 1,
   "id": "48e68812",
   "metadata": {},
   "outputs": [
    {
     "name": "stdout",
     "output_type": "stream",
     "text": [
      "Enter number67\n",
      "An TypeError occured\n",
      "Operation completed\n"
     ]
    }
   ],
   "source": [
    "num1=input(\"Enter number\") \n",
    "try: \n",
    "   print(num1*num1) \n",
    "except (TypeError,ZeroDivisionError): \n",
    "   print(\"An TypeError occured\") \n",
    "print(\"Operation completed\")"
   ]
  },
  {
   "cell_type": "markdown",
   "id": "74166227",
   "metadata": {},
   "source": [
    "When try-except scenario is not required?"
   ]
  },
  {
   "cell_type": "markdown",
   "id": "ff181500",
   "metadata": {},
   "source": [
    "The try except statement can handle exceptions. Exceptions may happen when you run a program.\n",
    "Exceptions are errors that happen during execution of the program. Python won’t tell you about errors like syntax errors (grammar faults), instead it will abruptly stop.\n",
    "An abrupt exit is bad for both the end user and developer.\n",
    "Instead of an emergency halt, you can use a try except statement to properly deal with the problem. An emergency halt will happen if you do not properly handle exceptions."
   ]
  },
  {
   "cell_type": "markdown",
   "id": "665d2918",
   "metadata": {},
   "source": [
    "Print one message if the try block raises a NameError and another for other errors"
   ]
  },
  {
   "cell_type": "code",
   "execution_count": 2,
   "id": "6a655f97",
   "metadata": {},
   "outputs": [
    {
     "name": "stdout",
     "output_type": "stream",
     "text": [
      "Variable x is not defined\n"
     ]
    }
   ],
   "source": [
    "try:\n",
    "  print(x)\n",
    "except NameError:\n",
    "  print(\"Variable x is not defined\")\n",
    "except:\n",
    "  print(\"Something else went wrong\")"
   ]
  },
  {
   "cell_type": "code",
   "execution_count": 3,
   "id": "98ef12dc",
   "metadata": {},
   "outputs": [
    {
     "name": "stdout",
     "output_type": "stream",
     "text": [
      "----------------------------\n",
      "        Menu        \n",
      "Enter (+) for Addition\n",
      "Enter (-) for Subtraction\n",
      "Enter (*) for Multiplication\n",
      "Enter (/) for Division\n",
      "Enter (e) to Exit\n",
      "----------------------------\n",
      "Enter your Option: 1\n",
      "[-] Error: Invalid Input!\n",
      "----------------------------\n",
      "        Menu        \n",
      "Enter (+) for Addition\n",
      "Enter (-) for Subtraction\n",
      "Enter (*) for Multiplication\n",
      "Enter (/) for Division\n",
      "Enter (e) to Exit\n",
      "----------------------------\n",
      "Enter your Option: +\n",
      "Enter 1st Number: 34\n",
      "Enter 2nd Number: 56\n",
      "[+] Answer:  90.0\n",
      "----------------------------\n",
      "        Menu        \n",
      "Enter (+) for Addition\n",
      "Enter (-) for Subtraction\n",
      "Enter (*) for Multiplication\n",
      "Enter (/) for Division\n",
      "Enter (e) to Exit\n",
      "----------------------------\n",
      "Enter your Option: -\n",
      "Enter 1st Number: 56\n",
      "Enter 2nd Number: 23\n",
      "[+] Answer:  33.0\n",
      "----------------------------\n",
      "        Menu        \n",
      "Enter (+) for Addition\n",
      "Enter (-) for Subtraction\n",
      "Enter (*) for Multiplication\n",
      "Enter (/) for Division\n",
      "Enter (e) to Exit\n",
      "----------------------------\n",
      "Enter your Option: *\n",
      "Enter 1st Number: 34\n",
      "Enter 2nd Number: 23\n",
      "[+] Answer:  782.0\n",
      "----------------------------\n",
      "        Menu        \n",
      "Enter (+) for Addition\n",
      "Enter (-) for Subtraction\n",
      "Enter (*) for Multiplication\n",
      "Enter (/) for Division\n",
      "Enter (e) to Exit\n",
      "----------------------------\n",
      "Enter your Option: /\n",
      "Enter 1st Number: 45\n",
      "Enter 2nd Number: 5\n",
      "[+] Answer:  9.0\n",
      "----------------------------\n",
      "        Menu        \n",
      "Enter (+) for Addition\n",
      "Enter (-) for Subtraction\n",
      "Enter (*) for Multiplication\n",
      "Enter (/) for Division\n",
      "Enter (e) to Exit\n",
      "----------------------------\n",
      "Enter your Option: e\n",
      "[+] Program Terminated!\n"
     ]
    }
   ],
   "source": [
    "def calculator():\n",
    "    validMenuOptions = [\"+\", \"-\", \"*\", \"/\", \"e\"]\n",
    "    while True:\n",
    "        displayMenu()\n",
    "        menuSelection = input(\"Enter your Option: \")\n",
    "\n",
    "        if menuSelection not in validMenuOptions:\n",
    "            print(\"[-] Error: Invalid Input!\")\n",
    "        elif menuSelection == \"e\":\n",
    "            print(\"[+] Program Terminated!\")\n",
    "            break\n",
    "        else:\n",
    "            \n",
    "            try:\n",
    "                firstNumber = float(input(\"Enter 1st Number: \"))\n",
    "                secondNumber = float(input(\"Enter 2nd Number: \"))\n",
    "\n",
    "                result = 0\n",
    "\n",
    "                # Checking each possibility and storing the output in 'result' variable\n",
    "                if menuSelection == \"+\":\n",
    "                    result = firstNumber + secondNumber\n",
    "                    print(\"[+] Answer: \", result)\n",
    "                elif menuSelection == \"-\":\n",
    "                    result = firstNumber - secondNumber\n",
    "                    print(\"[+] Answer: \", result)\n",
    "                elif menuSelection == \"*\":\n",
    "                    result = firstNumber * secondNumber\n",
    "                    print(\"[+] Answer: \", result)\n",
    "                elif menuSelection == \"/\":\n",
    "                    if secondNumber == 0:\n",
    "                        print(\"[-] Error: Cannot divide by zero\")\n",
    "                    else:\n",
    "                        result = firstNumber / secondNumber\n",
    "                        print(\"[+] Answer: \", result)\n",
    "            except:\n",
    "                print(\"[-] Error: Invalid Input! Only numerical input is allowed.\")\n",
    "\n",
    "def displayMenu():\n",
    "    print(\"----------------------------\")\n",
    "    print(\"        Menu        \")\n",
    "    print(\"Enter (+) for Addition\")\n",
    "    print(\"Enter (-) for Subtraction\")\n",
    "    print(\"Enter (*) for Multiplication\")\n",
    "    print(\"Enter (/) for Division\")\n",
    "    print(\"Enter (e) to Exit\")\n",
    "    print(\"----------------------------\")\n",
    "\n",
    "\n",
    "if __name__ == \"__main__\":\n",
    "    calculator()"
   ]
  },
  {
   "cell_type": "code",
   "execution_count": null,
   "id": "6e1efbb0",
   "metadata": {},
   "outputs": [],
   "source": []
  }
 ],
 "metadata": {
  "kernelspec": {
   "display_name": "Python 3",
   "language": "python",
   "name": "python3"
  },
  "language_info": {
   "codemirror_mode": {
    "name": "ipython",
    "version": 3
   },
   "file_extension": ".py",
   "mimetype": "text/x-python",
   "name": "python",
   "nbconvert_exporter": "python",
   "pygments_lexer": "ipython3",
   "version": "3.8.8"
  }
 },
 "nbformat": 4,
 "nbformat_minor": 5
}
