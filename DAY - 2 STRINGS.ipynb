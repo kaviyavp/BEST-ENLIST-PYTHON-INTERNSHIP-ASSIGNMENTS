{
 "cells": [
  {
   "cell_type": "markdown",
   "id": "1f60bff8",
   "metadata": {},
   "source": [
    "# DAY 2 STRINGS\n",
    "NAME : KAVIYA V"
   ]
  },
  {
   "cell_type": "markdown",
   "id": "6fdf9870",
   "metadata": {},
   "source": [
    "PRINT A VALUE"
   ]
  },
  {
   "cell_type": "code",
   "execution_count": 1,
   "id": "495df084",
   "metadata": {},
   "outputs": [
    {
     "name": "stdout",
     "output_type": "stream",
     "text": [
      "30 days 30 hours challenge\n"
     ]
    }
   ],
   "source": [
    "print(\"30 days 30 hours challenge\")"
   ]
  },
  {
   "cell_type": "markdown",
   "id": "ac8c4744",
   "metadata": {},
   "source": [
    "ASSIGNING STRING TO VARIABLE:"
   ]
  },
  {
   "cell_type": "code",
   "execution_count": 3,
   "id": "5abb41f8",
   "metadata": {},
   "outputs": [
    {
     "name": "stdout",
     "output_type": "stream",
     "text": [
      "30\n"
     ]
    }
   ],
   "source": [
    "Hours=\"30\"\n",
    "print(Hours)"
   ]
  },
  {
   "cell_type": "code",
   "execution_count": 4,
   "id": "5545c594",
   "metadata": {},
   "outputs": [
    {
     "name": "stdout",
     "output_type": "stream",
     "text": [
      "thirty\n"
     ]
    }
   ],
   "source": [
    "Hours=\"thirty\"\n",
    "print(Hours)"
   ]
  },
  {
   "cell_type": "markdown",
   "id": "cf719ce9",
   "metadata": {},
   "source": [
    "INDEXING USING STRING"
   ]
  },
  {
   "cell_type": "code",
   "execution_count": 6,
   "id": "08c53145",
   "metadata": {},
   "outputs": [
    {
     "name": "stdout",
     "output_type": "stream",
     "text": [
      "d\n"
     ]
    }
   ],
   "source": [
    "Days=\"Thirty days\"\n",
    "print(Days[7])"
   ]
  },
  {
   "cell_type": "code",
   "execution_count": 7,
   "id": "df98fca4",
   "metadata": {},
   "outputs": [
    {
     "name": "stdout",
     "output_type": "stream",
     "text": [
      "y\n"
     ]
    }
   ],
   "source": [
    "print(Days[9])"
   ]
  },
  {
   "cell_type": "code",
   "execution_count": 8,
   "id": "413609f1",
   "metadata": {},
   "outputs": [
    {
     "name": "stdout",
     "output_type": "stream",
     "text": [
      "r\n"
     ]
    }
   ],
   "source": [
    "print(Days[3])"
   ]
  },
  {
   "cell_type": "markdown",
   "id": "dec0195f",
   "metadata": {},
   "source": [
    "PRINT THE PARTICULAR CHARACTER FROM CERTAIN TEXT"
   ]
  },
  {
   "cell_type": "code",
   "execution_count": 9,
   "id": "9c8a51a2",
   "metadata": {},
   "outputs": [
    {
     "name": "stdout",
     "output_type": "stream",
     "text": [
      "win\n"
     ]
    }
   ],
   "source": [
    "Challenge=\"I will win\"\n",
    "print(Challenge[7:10])"
   ]
  },
  {
   "cell_type": "code",
   "execution_count": 10,
   "id": "c42090b6",
   "metadata": {},
   "outputs": [
    {
     "name": "stdout",
     "output_type": "stream",
     "text": [
      "will \n"
     ]
    }
   ],
   "source": [
    "Challenge=\"I will win\"\n",
    "print(Challenge[2:7])"
   ]
  },
  {
   "cell_type": "code",
   "execution_count": 11,
   "id": "3596da21",
   "metadata": {},
   "outputs": [
    {
     "name": "stdout",
     "output_type": "stream",
     "text": [
      "I will\n"
     ]
    }
   ],
   "source": [
    "Challenge=\"I will win\"\n",
    "print(Challenge[:6])"
   ]
  },
  {
   "cell_type": "code",
   "execution_count": 12,
   "id": "74d3fe7b",
   "metadata": {},
   "outputs": [
    {
     "name": "stdout",
     "output_type": "stream",
     "text": [
      " win\n"
     ]
    }
   ],
   "source": [
    "Challenge=\"I will win\"\n",
    "print(Challenge[6:])"
   ]
  },
  {
   "cell_type": "markdown",
   "id": "2183de95",
   "metadata": {},
   "source": [
    "CONVERSION OF STRING TO UPPER CASE"
   ]
  },
  {
   "cell_type": "code",
   "execution_count": 13,
   "id": "8cf3ddfe",
   "metadata": {},
   "outputs": [
    {
     "name": "stdout",
     "output_type": "stream",
     "text": [
      "I WILL WIN\n"
     ]
    }
   ],
   "source": [
    "print(Challenge.upper())"
   ]
  },
  {
   "cell_type": "markdown",
   "id": "e9527224",
   "metadata": {},
   "source": [
    "CONVERSION OF STRING TO LOWER CASE"
   ]
  },
  {
   "cell_type": "code",
   "execution_count": 14,
   "id": "7e857cb6",
   "metadata": {},
   "outputs": [
    {
     "name": "stdout",
     "output_type": "stream",
     "text": [
      "i will win\n"
     ]
    }
   ],
   "source": [
    "print(Challenge.lower())"
   ]
  },
  {
   "cell_type": "markdown",
   "id": "cf3d5ba0",
   "metadata": {},
   "source": [
    "FIND THE LENGTH OF THE STRING"
   ]
  },
  {
   "cell_type": "code",
   "execution_count": 15,
   "id": "11bf5905",
   "metadata": {},
   "outputs": [
    {
     "name": "stdout",
     "output_type": "stream",
     "text": [
      "10\n"
     ]
    }
   ],
   "source": [
    "print(len(Challenge))"
   ]
  },
  {
   "cell_type": "markdown",
   "id": "f708a8c3",
   "metadata": {},
   "source": [
    "STRING CONCATENATION"
   ]
  },
  {
   "cell_type": "code",
   "execution_count": 16,
   "id": "51d09b2b",
   "metadata": {},
   "outputs": [
    {
     "name": "stdout",
     "output_type": "stream",
     "text": [
      "30 Days30 Hours\n"
     ]
    }
   ],
   "source": [
    "a=\"30 Days\"\n",
    "b=\"30 Hours\"\n",
    "c=a+b\n",
    "print(c)"
   ]
  },
  {
   "cell_type": "markdown",
   "id": "220883a4",
   "metadata": {},
   "source": [
    "ADDING SPACE DURING CONCATENATION"
   ]
  },
  {
   "cell_type": "code",
   "execution_count": 19,
   "id": "be3ef3ba",
   "metadata": {},
   "outputs": [
    {
     "name": "stdout",
     "output_type": "stream",
     "text": [
      "30 Days 30 Hours\n"
     ]
    }
   ],
   "source": [
    "a=\"30 Days\"\n",
    "b=\"30 Hours\"\n",
    "c=a+ \" \" +b\n",
    "print(c)"
   ]
  },
  {
   "cell_type": "markdown",
   "id": "c97544f1",
   "metadata": {},
   "source": [
    "CASEFOLD() - USAGE"
   ]
  },
  {
   "cell_type": "code",
   "execution_count": 21,
   "id": "e5f962ec",
   "metadata": {},
   "outputs": [
    {
     "name": "stdout",
     "output_type": "stream",
     "text": [
      "thirty days and thirty hours\n"
     ]
    }
   ],
   "source": [
    "text=\"Thirty days and Thirty hours\"\n",
    "x=text.casefold()\n",
    "print(x)"
   ]
  },
  {
   "cell_type": "code",
   "execution_count": 22,
   "id": "8a278e90",
   "metadata": {},
   "outputs": [
    {
     "name": "stdout",
     "output_type": "stream",
     "text": [
      "python world\n"
     ]
    }
   ],
   "source": [
    "a=\"Python WoRLd\"\n",
    "b=a.casefold()\n",
    "print(b)"
   ]
  },
  {
   "cell_type": "markdown",
   "id": "03511815",
   "metadata": {},
   "source": [
    "CAPITALIZE()"
   ]
  },
  {
   "cell_type": "code",
   "execution_count": 24,
   "id": "f7be89f1",
   "metadata": {},
   "outputs": [
    {
     "name": "stdout",
     "output_type": "stream",
     "text": [
      "Thirty days and thirty hours\n"
     ]
    }
   ],
   "source": [
    "a=text.capitalize()\n",
    "print(a)"
   ]
  },
  {
   "cell_type": "markdown",
   "id": "56c2ae2f",
   "metadata": {},
   "source": [
    "FIND()"
   ]
  },
  {
   "cell_type": "code",
   "execution_count": 25,
   "id": "b6ba0fd7",
   "metadata": {},
   "outputs": [
    {
     "name": "stdout",
     "output_type": "stream",
     "text": [
      "12\n"
     ]
    }
   ],
   "source": [
    "b=text.find(\"and\")\n",
    "print(b)"
   ]
  },
  {
   "cell_type": "markdown",
   "id": "7c3aa14b",
   "metadata": {},
   "source": [
    "ISALPHA()"
   ]
  },
  {
   "cell_type": "code",
   "execution_count": 28,
   "id": "9353d405",
   "metadata": {},
   "outputs": [
    {
     "name": "stdout",
     "output_type": "stream",
     "text": [
      "False\n"
     ]
    }
   ],
   "source": [
    "c=text.isalpha()\n",
    "print(c)"
   ]
  },
  {
   "cell_type": "code",
   "execution_count": 30,
   "id": "20f3b729",
   "metadata": {},
   "outputs": [
    {
     "name": "stdout",
     "output_type": "stream",
     "text": [
      "True\n"
     ]
    }
   ],
   "source": [
    "v=\"Python\"\n",
    "print(v.isalpha())"
   ]
  },
  {
   "cell_type": "markdown",
   "id": "07ca4218",
   "metadata": {},
   "source": [
    "ISALNUM()"
   ]
  },
  {
   "cell_type": "code",
   "execution_count": 32,
   "id": "ed2cce59",
   "metadata": {},
   "outputs": [
    {
     "name": "stdout",
     "output_type": "stream",
     "text": [
      "False\n"
     ]
    }
   ],
   "source": [
    "x=text.isalnum()\n",
    "print(x)"
   ]
  },
  {
   "cell_type": "code",
   "execution_count": 34,
   "id": "d169044b",
   "metadata": {},
   "outputs": [
    {
     "name": "stdout",
     "output_type": "stream",
     "text": [
      "True\n"
     ]
    }
   ],
   "source": [
    "y=\"1906Kavi\"\n",
    "print(y.isalnum())"
   ]
  }
 ],
 "metadata": {
  "kernelspec": {
   "display_name": "Python 3",
   "language": "python",
   "name": "python3"
  },
  "language_info": {
   "codemirror_mode": {
    "name": "ipython",
    "version": 3
   },
   "file_extension": ".py",
   "mimetype": "text/x-python",
   "name": "python",
   "nbconvert_exporter": "python",
   "pygments_lexer": "ipython3",
   "version": "3.9.4"
  }
 },
 "nbformat": 4,
 "nbformat_minor": 5
}
