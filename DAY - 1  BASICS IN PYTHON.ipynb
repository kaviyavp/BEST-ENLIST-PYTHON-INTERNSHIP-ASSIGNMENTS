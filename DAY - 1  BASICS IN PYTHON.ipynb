{
 "cells": [
  {
   "cell_type": "markdown",
   "id": "97f75285",
   "metadata": {},
   "source": [
    "# DAY 1 PYTHON BASICS\n",
    "\n",
    "NAME : KAVIYA V"
   ]
  },
  {
   "cell_type": "code",
   "execution_count": 1,
   "id": "9f44d5bb",
   "metadata": {},
   "outputs": [
    {
     "name": "stdout",
     "output_type": "stream",
     "text": [
      "Hello World\n"
     ]
    }
   ],
   "source": [
    "print(\"Hello World\")"
   ]
  },
  {
   "cell_type": "markdown",
   "id": "c2df15a4",
   "metadata": {},
   "source": [
    "ADDITION OF TWO NUMBERS"
   ]
  },
  {
   "cell_type": "code",
   "execution_count": 2,
   "id": "09cfaf08",
   "metadata": {},
   "outputs": [
    {
     "name": "stdout",
     "output_type": "stream",
     "text": [
      "Enter number one :46\n",
      "Enter number two :23\n",
      "SUM = 69\n"
     ]
    }
   ],
   "source": [
    "a=int(input(\"Enter number one :\"))\n",
    "b=int(input(\"Enter number two :\"))\n",
    "c=a+b\n",
    "print(\"SUM =\",c)"
   ]
  },
  {
   "cell_type": "markdown",
   "id": "d46e9060",
   "metadata": {},
   "source": [
    "FIND MAXIMUM OF TWO NUMBERS"
   ]
  },
  {
   "cell_type": "code",
   "execution_count": 3,
   "id": "429b3a45",
   "metadata": {},
   "outputs": [
    {
     "name": "stdout",
     "output_type": "stream",
     "text": [
      "Enter the number :39\n",
      "Enter the number :20\n",
      "Maximum among two numbers a and b is 39\n"
     ]
    }
   ],
   "source": [
    "a=int(input(\"Enter the number :\"))\n",
    "b=int(input(\"Enter the number :\"))\n",
    "if(a>b):\n",
    "    print(\"Maximum among two numbers a and b is\",a)\n",
    "else:\n",
    "    print(\"Maximum among two numbers a and b is\",b)"
   ]
  },
  {
   "cell_type": "markdown",
   "id": "9dcd7b04",
   "metadata": {},
   "source": [
    "SWAPPING OF TWO NUMBERS"
   ]
  },
  {
   "cell_type": "code",
   "execution_count": 5,
   "id": "d1b82385",
   "metadata": {},
   "outputs": [
    {
     "name": "stdout",
     "output_type": "stream",
     "text": [
      "Enter the number :45\n",
      "Enter the number :34\n",
      "Before Swapping two Number: a = 45 and b = 34\n",
      "After Swapping two Number: a = 34 and b = 45\n"
     ]
    }
   ],
   "source": [
    "a=int(input(\"Enter the number :\"))\n",
    "b=int(input(\"Enter the number :\"))\n",
    "print(\"Before Swapping two Number: a = {0} and b = {1}\".format(a, b))\n",
    "temp=a\n",
    "a=b\n",
    "b=temp\n",
    "print(\"After Swapping two Number: a = {0} and b = {1}\".format(a, b))"
   ]
  },
  {
   "cell_type": "code",
   "execution_count": 14,
   "id": "21609bb0",
   "metadata": {},
   "outputs": [
    {
     "name": "stdout",
     "output_type": "stream",
     "text": [
      "After Swapping two Number: a = 70 and b = 30\n"
     ]
    }
   ],
   "source": [
    "a=30\n",
    "b=70\n",
    "a,b=b,a\n",
    "print(\"After Swapping two Number: a = {0} and b = {1}\".format(a, b))"
   ]
  },
  {
   "cell_type": "markdown",
   "id": "62df9d50",
   "metadata": {},
   "source": [
    "ODD OR EVEN NUMBERS"
   ]
  },
  {
   "cell_type": "code",
   "execution_count": 10,
   "id": "e82d5d46",
   "metadata": {},
   "outputs": [
    {
     "name": "stdout",
     "output_type": "stream",
     "text": [
      "Enter the number :45\n",
      "The number 45 is odd\n"
     ]
    }
   ],
   "source": [
    "a=int(input(\"Enter the number :\"))\n",
    "if(int(a)%2==0):\n",
    "    print(\"The number {0} is even\".format(a))\n",
    "else:\n",
    "    print(\"The number {0} is odd\".format(a))"
   ]
  },
  {
   "cell_type": "markdown",
   "id": "af767943",
   "metadata": {},
   "source": [
    "PRIME NUMBER"
   ]
  },
  {
   "cell_type": "code",
   "execution_count": 15,
   "id": "998320c9",
   "metadata": {},
   "outputs": [
    {
     "name": "stdout",
     "output_type": "stream",
     "text": [
      "12\n",
      "24\n"
     ]
    }
   ],
   "source": [
    "def count_Primes_nums(n):\n",
    "    a = 0\n",
    "    \n",
    "    for num in range(n):\n",
    "        if num <= 1:\n",
    "            continue\n",
    "        for i in range(2, num):\n",
    "            if (num % i) == 0:\n",
    "                break\n",
    "        else:\n",
    "            a += 1\n",
    "\n",
    "    return a\n",
    "\n",
    "print(count_Primes_nums(40))\n",
    "print(count_Primes_nums(90))"
   ]
  },
  {
   "cell_type": "markdown",
   "id": "4ac8a00e",
   "metadata": {},
   "source": [
    "PALLINDROME NUMBER"
   ]
  },
  {
   "cell_type": "code",
   "execution_count": 1,
   "id": "80d4a687",
   "metadata": {},
   "outputs": [
    {
     "name": "stdout",
     "output_type": "stream",
     "text": [
      "Enter a value:143\n",
      "This value is not a palindrome number!\n"
     ]
    }
   ],
   "source": [
    "n = int(input(\"Enter a value:\"))  \n",
    "Temp = n \n",
    "reverse = 0  \n",
    "while(n > 0):  \n",
    "    dig = n % 10  \n",
    "    reverse = reverse * 10 + dig  \n",
    "    n = n // 10  \n",
    "if(Temp == reverse):  \n",
    "    print(\"This value is a palindrome number!\")  \n",
    "else:  \n",
    "    print(\"This value is not a palindrome number!\")  "
   ]
  }
 ],
 "metadata": {
  "kernelspec": {
   "display_name": "Python 3",
   "language": "python",
   "name": "python3"
  },
  "language_info": {
   "codemirror_mode": {
    "name": "ipython",
    "version": 3
   },
   "file_extension": ".py",
   "mimetype": "text/x-python",
   "name": "python",
   "nbconvert_exporter": "python",
   "pygments_lexer": "ipython3",
   "version": "3.9.4"
  }
 },
 "nbformat": 4,
 "nbformat_minor": 5
}
