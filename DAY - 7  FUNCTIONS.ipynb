{
 "cells": [
  {
   "cell_type": "markdown",
   "id": "d03e5fc5",
   "metadata": {},
   "source": [
    "# DAY 7 FUNCTIONS¶\n",
    "NAME : KAVIYA V"
   ]
  },
  {
   "cell_type": "markdown",
   "id": "56878c6a",
   "metadata": {},
   "source": [
    "1. Create a function getting two integer inputs from user & print the following:"
   ]
  },
  {
   "cell_type": "markdown",
   "id": "65dad65f",
   "metadata": {},
   "source": [
    "1. Addition of two numbers is +value"
   ]
  },
  {
   "cell_type": "code",
   "execution_count": 1,
   "id": "ab96f501",
   "metadata": {},
   "outputs": [
    {
     "name": "stdout",
     "output_type": "stream",
     "text": [
      "Enter the number:45\n",
      "Enter the number:16\n",
      "The sum is 61\n"
     ]
    }
   ],
   "source": [
    "def add_num(a,b):\n",
    "    sum=a+b;\n",
    "    return sum; \n",
    "a=int(input(\"Enter the number:\"))\n",
    "b=int(input(\"Enter the number:\"))\n",
    "print(\"The sum is\",add_num(a,b))"
   ]
  },
  {
   "cell_type": "markdown",
   "id": "52ed7b9c",
   "metadata": {},
   "source": [
    "2. Subtraction of two numbers is +value"
   ]
  },
  {
   "cell_type": "code",
   "execution_count": 2,
   "id": "2e7303c8",
   "metadata": {},
   "outputs": [
    {
     "name": "stdout",
     "output_type": "stream",
     "text": [
      "Enter the number:51\n",
      "Enter the number:29\n",
      "The difference is 22\n"
     ]
    }
   ],
   "source": [
    "def sub_num(a,b):\n",
    "    sub=a-b;\n",
    "    return sub; \n",
    "a=int(input(\"Enter the number:\"))\n",
    "b=int(input(\"Enter the number:\"))\n",
    "print(\"The difference is\",sub_num(a,b))"
   ]
  },
  {
   "cell_type": "markdown",
   "id": "aef49c2d",
   "metadata": {},
   "source": [
    "3. Multiplication of two numbers is +value"
   ]
  },
  {
   "cell_type": "code",
   "execution_count": 3,
   "id": "6957de68",
   "metadata": {},
   "outputs": [
    {
     "name": "stdout",
     "output_type": "stream",
     "text": [
      "Enter the number:34\n",
      "Enter the number:53\n",
      "The product is 1802\n"
     ]
    }
   ],
   "source": [
    "def mul_num(a,b):\n",
    "    mul=a*b;\n",
    "    return mul; \n",
    "a=int(input(\"Enter the number:\"))\n",
    "b=int(input(\"Enter the number:\"))\n",
    "print(\"The product is\",mul_num(a,b))"
   ]
  },
  {
   "cell_type": "markdown",
   "id": "75168a8f",
   "metadata": {},
   "source": [
    "4. Division of two numbers is +value"
   ]
  },
  {
   "cell_type": "code",
   "execution_count": 5,
   "id": "1d67ca2b",
   "metadata": {},
   "outputs": [
    {
     "name": "stdout",
     "output_type": "stream",
     "text": [
      "Enter the number:156\n",
      "Enter the number:6\n",
      "The quotient is 26.0\n"
     ]
    }
   ],
   "source": [
    "def div_num(a,b):\n",
    "    div=a/b;\n",
    "    return div; \n",
    "a=int(input(\"Enter the number:\"))\n",
    "b=int(input(\"Enter the number:\"))\n",
    "print(\"The quotient is\",div_num(a,b))"
   ]
  },
  {
   "cell_type": "markdown",
   "id": "f71c6e9f",
   "metadata": {},
   "source": [
    "2. Create a function covid( ) & it should accept patient name, and body temperature, by\n",
    "default the body temperature should be 98 degree"
   ]
  },
  {
   "cell_type": "code",
   "execution_count": 6,
   "id": "161c3b27",
   "metadata": {},
   "outputs": [
    {
     "name": "stdout",
     "output_type": "stream",
     "text": [
      "Patient Name: Nisha\n",
      "Body Temperature: 98\n",
      "Patient Name: Sona\n",
      "Body Temperature: 98\n",
      "Patient Name: Vishal\n",
      "Body Temperature: 98\n",
      "Patient Name: Vijay\n",
      "Body Temperature: 98\n",
      "Patient Name: Varun\n",
      "Body Temperature: 98\n",
      "Patient Name: Hema\n",
      "Body Temperature: 98\n"
     ]
    }
   ],
   "source": [
    "def covid(name,body_temp=98):\n",
    "  print(\"Patient Name:\",name)\n",
    "  print(\"Body Temperature:\",body_temp)\n",
    "covid(\"Nisha\")\n",
    "covid(\"Sona\")\n",
    "covid(\"Vishal\")\n",
    "covid(\"Vijay\")\n",
    "covid(\"Varun\")\n",
    "covid(\"Hema\")"
   ]
  },
  {
   "cell_type": "code",
   "execution_count": null,
   "id": "b06bdb9e",
   "metadata": {},
   "outputs": [],
   "source": []
  }
 ],
 "metadata": {
  "kernelspec": {
   "display_name": "Python 3",
   "language": "python",
   "name": "python3"
  },
  "language_info": {
   "codemirror_mode": {
    "name": "ipython",
    "version": 3
   },
   "file_extension": ".py",
   "mimetype": "text/x-python",
   "name": "python",
   "nbconvert_exporter": "python",
   "pygments_lexer": "ipython3",
   "version": "3.8.8"
  }
 },
 "nbformat": 4,
 "nbformat_minor": 5
}
