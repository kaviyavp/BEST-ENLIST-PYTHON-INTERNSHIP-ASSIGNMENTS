{
 "cells": [
  {
   "cell_type": "markdown",
   "id": "40ca2949",
   "metadata": {},
   "source": [
    "# DAY 6 DICTIONARY, SETS\n",
    "NAME : KAVIYA V"
   ]
  },
  {
   "cell_type": "markdown",
   "id": "f2834b4c",
   "metadata": {},
   "source": [
    "1. Write a Python script to merge two Python dictionaries"
   ]
  },
  {
   "cell_type": "code",
   "execution_count": 1,
   "id": "0529c603",
   "metadata": {},
   "outputs": [
    {
     "name": "stdout",
     "output_type": "stream",
     "text": [
      "First Dictionary:  {1: 'Apple', 2: 'Banana', 3: 'Orange'}\n",
      "Second Dictionary:  {4: 'Kiwi', 5: 'Mango'}\n",
      "\n",
      "Merged Dictionaries are: \n",
      "{1: 'Apple', 2: 'Banana', 3: 'Orange', 4: 'Kiwi', 5: 'Mango'}\n"
     ]
    }
   ],
   "source": [
    "first_Dict = {1:'Apple',2:'Banana',3:'Orange'}\n",
    "second_Dict = {4:'Kiwi',5:'Mango'}\n",
    "print(\"First Dictionary: \",first_Dict)\n",
    "print(\"Second Dictionary: \",second_Dict)\n",
    "\n",
    "#Merge Two Dictionaries in Python\n",
    "first_Dict.update(second_Dict)\n",
    "    \n",
    "print(\"\\nMerged Dictionaries are: \")\n",
    "print(first_Dict)\n"
   ]
  },
  {
   "cell_type": "markdown",
   "id": "3f46fd86",
   "metadata": {},
   "source": [
    "2. Write a Python program to remove a key from a dictionary"
   ]
  },
  {
   "cell_type": "code",
   "execution_count": 2,
   "id": "afca37e3",
   "metadata": {},
   "outputs": [
    {
     "name": "stdout",
     "output_type": "stream",
     "text": [
      "{'a': 1, 'b': 2, 'c': 3, 'd': 4}\n",
      "{'a': 1, 'b': 2, 'c': 3}\n"
     ]
    }
   ],
   "source": [
    "my_Dict = {'a':1,'b':2,'c':3,'d':4}\n",
    "print(my_Dict)\n",
    "if 'd' in my_Dict: \n",
    "    del my_Dict['d']\n",
    "print(my_Dict)"
   ]
  },
  {
   "cell_type": "markdown",
   "id": "fdbb5cc4",
   "metadata": {},
   "source": [
    "3. Write a Python program to map two lists into a dictionary"
   ]
  },
  {
   "cell_type": "code",
   "execution_count": 3,
   "id": "874fe7d2",
   "metadata": {},
   "outputs": [
    {
     "name": "stdout",
     "output_type": "stream",
     "text": [
      "Dictionary Items: {'Name': 'John', 'Age': 25, 'Job': 'Developer'}\n"
     ]
    }
   ],
   "source": [
    "keys = ['Name','Age','Job']\n",
    "values = ['John',25,'Developer']\n",
    "my_Dict = dict(zip(keys,values))\n",
    "print(\"Dictionary Items:\",my_Dict)"
   ]
  },
  {
   "cell_type": "markdown",
   "id": "90322d24",
   "metadata": {},
   "source": [
    "4. Write a Python program to find the length of a set"
   ]
  },
  {
   "cell_type": "code",
   "execution_count": 4,
   "id": "fc1d6cf3",
   "metadata": {},
   "outputs": [
    {
     "name": "stdout",
     "output_type": "stream",
     "text": [
      "6\n"
     ]
    }
   ],
   "source": [
    "set={5, 10, 3, 15, 2, 20}\n",
    "print(len(set))"
   ]
  },
  {
   "cell_type": "markdown",
   "id": "1f803ba4",
   "metadata": {},
   "source": [
    "5. Write a Python program to remove the intersection of a 2nd set from the 1st set"
   ]
  },
  {
   "cell_type": "code",
   "execution_count": 5,
   "id": "5e653f09",
   "metadata": {},
   "outputs": [
    {
     "name": "stdout",
     "output_type": "stream",
     "text": [
      "Original sets:\n",
      "{1, 2, 3, 4, 5}\n",
      "{4, 5, 6, 7, 8}\n",
      "\n",
      "Remove the intersection of a 2nd set from the 1st set using difference_update():\n",
      "set1:  {1, 2, 3}\n",
      "set2:  {4, 5, 6, 7, 8}\n"
     ]
    }
   ],
   "source": [
    "set1 = {1,2,3,4,5}\n",
    "set2 = {4,5,6,7,8}\n",
    "print(\"Original sets:\")\n",
    "print(set1)\n",
    "print(set2)\n",
    "print(\"\\nRemove the intersection of a 2nd set from the 1st set using difference_update():\")\n",
    "set1.difference_update(set2)\n",
    "print(\"set1: \",set1)\n",
    "print(\"set2: \",set2)"
   ]
  }
 ],
 "metadata": {
  "kernelspec": {
   "display_name": "Python 3",
   "language": "python",
   "name": "python3"
  },
  "language_info": {
   "codemirror_mode": {
    "name": "ipython",
    "version": 3
   },
   "file_extension": ".py",
   "mimetype": "text/x-python",
   "name": "python",
   "nbconvert_exporter": "python",
   "pygments_lexer": "ipython3",
   "version": "3.8.8"
  }
 },
 "nbformat": 4,
 "nbformat_minor": 5
}
