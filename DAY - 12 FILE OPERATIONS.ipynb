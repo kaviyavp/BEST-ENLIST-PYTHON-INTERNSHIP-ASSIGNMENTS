{
 "cells": [
  {
   "cell_type": "markdown",
   "id": "4454794c",
   "metadata": {},
   "source": [
    "# DAY 12 FILE OPERATIONS\n",
    "NAME : KAVIYA V"
   ]
  },
  {
   "cell_type": "markdown",
   "id": "ebd9e5a8",
   "metadata": {},
   "source": [
    "Create a file 30 days 30 hour operations. Write data in it I have completed 10 days successfully."
   ]
  },
  {
   "cell_type": "code",
   "execution_count": 2,
   "id": "b45c446b",
   "metadata": {},
   "outputs": [
    {
     "name": "stdout",
     "output_type": "stream",
     "text": [
      "I have completed 10 days Successfully\n",
      "\n"
     ]
    }
   ],
   "source": [
    "file1=open(\"30 days 30 hours Operations.txt\",\"wt\")\n",
    "file1.write(\"I have completed 10 days Successfully\\n\")\n",
    "file1.close()\n",
    "file1=open(\"30 days 30 hours Operations.txt\",\"r+\")\n",
    "print(file1.read())"
   ]
  },
  {
   "cell_type": "markdown",
   "id": "6d2f34f5",
   "metadata": {},
   "source": [
    "Append the data your name in to it. Close the file."
   ]
  },
  {
   "cell_type": "code",
   "execution_count": 5,
   "id": "f36d0d19",
   "metadata": {},
   "outputs": [
    {
     "name": "stdout",
     "output_type": "stream",
     "text": [
      "I have completed 10 days Successfully\n",
      "Kaviya Vaidiyanathan\n",
      "\n"
     ]
    }
   ],
   "source": [
    "file1=open(\"30 days 30 hours Operations.txt\",\"a+\")\n",
    "file1.write(\"Kaviya Vaidiyanathan\\n\")\n",
    "file1.close()\n",
    "file1=open(\"30 days 30 hours Operations.txt\",\"r+\")\n",
    "print(file1.read())"
   ]
  }
 ],
 "metadata": {
  "kernelspec": {
   "display_name": "Python 3",
   "language": "python",
   "name": "python3"
  },
  "language_info": {
   "codemirror_mode": {
    "name": "ipython",
    "version": 3
   },
   "file_extension": ".py",
   "mimetype": "text/x-python",
   "name": "python",
   "nbconvert_exporter": "python",
   "pygments_lexer": "ipython3",
   "version": "3.8.8"
  }
 },
 "nbformat": 4,
 "nbformat_minor": 5
}
