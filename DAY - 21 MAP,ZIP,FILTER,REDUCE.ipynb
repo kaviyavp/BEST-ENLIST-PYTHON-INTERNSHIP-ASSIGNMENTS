{
 "cells": [
  {
   "cell_type": "markdown",
   "id": "36180c4e",
   "metadata": {},
   "source": [
    "# DAY 21 MAP,ZIP,FILTER,REDUCE\n",
    "NAME : KAVIYA V"
   ]
  },
  {
   "cell_type": "markdown",
   "id": "59629ef7",
   "metadata": {},
   "source": [
    "Write a program using zip() function and list() function, create a merged list of tuples from the two lists given."
   ]
  },
  {
   "cell_type": "code",
   "execution_count": 1,
   "id": "67b5c730",
   "metadata": {},
   "outputs": [
    {
     "name": "stdout",
     "output_type": "stream",
     "text": [
      "[(19542209, 'New York'), (4887871, 'Alabama'), (1420491, 'Hawaii'), (626299, 'Vermont'), (1805832, 'West Virginia'), (39865590, 'California')]\n"
     ]
    }
   ],
   "source": [
    "list1=[19542209,4887871,1420491,626299,1805832,39865590]\n",
    "list2=[\"New York\",\"Alabama\",\"Hawaii\",\"Vermont\",\"West Virginia\",\"California\"]\n",
    "list3=list(zip(list1,list2))\n",
    "print(list3)"
   ]
  },
  {
   "cell_type": "markdown",
   "id": "692a6ddf",
   "metadata": {},
   "source": [
    "Using sorted() function, sort the list in ascending order."
   ]
  },
  {
   "cell_type": "code",
   "execution_count": 2,
   "id": "0da53bf9",
   "metadata": {},
   "outputs": [
    {
     "name": "stdout",
     "output_type": "stream",
     "text": [
      "[1, 2, 3, 6, 8, 9, 10, 11]\n"
     ]
    }
   ],
   "source": [
    "numbers=[6,9,3,1,2,10,8,11]\n",
    "Sort_numbers=sorted(numbers)\n",
    "print(Sort_numbers)"
   ]
  },
  {
   "cell_type": "markdown",
   "id": "a4f19150",
   "metadata": {},
   "source": [
    "Write a program using filter function, filter the even numbers so that only odd numbers are passed to the new list."
   ]
  },
  {
   "cell_type": "code",
   "execution_count": 3,
   "id": "7a2239f3",
   "metadata": {},
   "outputs": [
    {
     "name": "stdout",
     "output_type": "stream",
     "text": [
      "[2, 4, 6, 8, 10]\n"
     ]
    }
   ],
   "source": [
    "lis1=[1,2,3,4,5,6,7,8,9,10]\n",
    "is_even=lambda x:x%2==0\n",
    "lis2=list(filter(is_even, lis1))\n",
    "print(lis2)"
   ]
  },
  {
   "cell_type": "markdown",
   "id": "9fd0cb93",
   "metadata": {},
   "source": [
    "First create a range from 1 to 8. Then using zip, merge the given list and the range together to create a new list of tuples."
   ]
  },
  {
   "cell_type": "code",
   "execution_count": 4,
   "id": "01eb9485",
   "metadata": {},
   "outputs": [
    {
     "name": "stdout",
     "output_type": "stream",
     "text": [
      "[('Energy', 1), ('Agriculture', 2), ('Industry', 3), ('Technology', 4), ('Finance', 5), ('Forestry', 6), ('Transport', 7)]\n"
     ]
    }
   ],
   "source": [
    "a=[\"Energy\",\"Agriculture\",\"Industry\",\"Technology\",\"Finance\",\"Forestry\",\"Transport\"]\n",
    "b=range(1,8)\n",
    "ab=list(zip(a,b))\n",
    "print(ab)"
   ]
  }
 ],
 "metadata": {
  "kernelspec": {
   "display_name": "Python 3",
   "language": "python",
   "name": "python3"
  },
  "language_info": {
   "codemirror_mode": {
    "name": "ipython",
    "version": 3
   },
   "file_extension": ".py",
   "mimetype": "text/x-python",
   "name": "python",
   "nbconvert_exporter": "python",
   "pygments_lexer": "ipython3",
   "version": "3.8.8"
  }
 },
 "nbformat": 4,
 "nbformat_minor": 5
}
