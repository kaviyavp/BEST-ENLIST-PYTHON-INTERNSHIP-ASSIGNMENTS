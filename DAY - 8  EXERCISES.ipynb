{
 "cells": [
  {
   "cell_type": "markdown",
   "id": "f3f54aec",
   "metadata": {},
   "source": [
    "# DAY 8 EXERCISES\n",
    "NAME : KAVIYA V"
   ]
  },
  {
   "cell_type": "markdown",
   "id": "acd41e7c",
   "metadata": {},
   "source": [
    "O Write a Python script to merge two Python dictionaries"
   ]
  },
  {
   "cell_type": "code",
   "execution_count": 1,
   "id": "ea359415",
   "metadata": {},
   "outputs": [
    {
     "name": "stdout",
     "output_type": "stream",
     "text": [
      "{'Apple': 2, 'Orange': 3, 'Grapes': 5, 'Cashew': 3, 'Almond': 4, 'Pistachio': 6}\n"
     ]
    }
   ],
   "source": [
    "fruits = {\"Apple\":2,\"Orange\":3,\"Grapes\":5}\n",
    "dry_fruits = {\"Cashew\":3,\"Almond\":4,\"Pistachio\":6}\n",
    "fruits.update(dry_fruits)\n",
    "print(fruits)"
   ]
  },
  {
   "cell_type": "markdown",
   "id": "9442e99d",
   "metadata": {},
   "source": [
    "O Write a program to sort the value from descending to ascending in list and convert it in to a set."
   ]
  },
  {
   "cell_type": "code",
   "execution_count": 2,
   "id": "dfd72e3e",
   "metadata": {},
   "outputs": [
    {
     "name": "stdout",
     "output_type": "stream",
     "text": [
      "Element Before Sorting is: [12, 45, 87, 49, 56, 46]\n",
      "Element After Sorting List in Descending Order is: [87, 56, 49, 46, 45, 12]\n",
      "The elements after converted into sets are: {12, 45, 46, 49, 87, 56}\n"
     ]
    }
   ],
   "source": [
    "Num_List = [12,45,87,49,56,46]\n",
    "print(\"Element Before Sorting is:\",Num_List)\n",
    "new_NumList=sorted(Num_List,reverse=True)\n",
    "print(\"Element After Sorting List in Descending Order is:\",new_NumList)\n",
    "a=set(Num_List)\n",
    "print(\"The elements after converted into sets are:\",a)"
   ]
  },
  {
   "cell_type": "markdown",
   "id": "5fabaa91",
   "metadata": {},
   "source": [
    "O Write a Python program to get a string from a given string (user input) and change the first occurrence of the word to a user specified input."
   ]
  },
  {
   "cell_type": "code",
   "execution_count": 4,
   "id": "1ec4dadb",
   "metadata": {},
   "outputs": [
    {
     "name": "stdout",
     "output_type": "stream",
     "text": [
      "resta$t\n"
     ]
    }
   ],
   "source": [
    "def change_char(str1):\n",
    "  char=str1[0]\n",
    "  str1=str1.replace(char,'$')\n",
    "  str1=char+str1[1:]\n",
    "  return str1\n",
    "print(change_char('restart'))"
   ]
  },
  {
   "cell_type": "markdown",
   "id": "d1e5b527",
   "metadata": {},
   "source": [
    "O Write a Python program to find the repeated items of a list"
   ]
  },
  {
   "cell_type": "code",
   "execution_count": 5,
   "id": "03b0ddaf",
   "metadata": {},
   "outputs": [
    {
     "name": "stdout",
     "output_type": "stream",
     "text": [
      "[3, 9, 12]\n"
     ]
    }
   ],
   "source": [
    "list = [ 3, 6, 9, 12, 3, 30, 15, 9, 45, 36, 12, 12]\n",
    "dupItems = []\n",
    "uniqItems = {}\n",
    "for x in list:\n",
    "   if x not in uniqItems:\n",
    "      uniqItems[x] = 1\n",
    "   else:\n",
    "      if uniqItems[x] == 1:\n",
    "         dupItems.append(x)\n",
    "      uniqItems[x] += 1\n",
    "print(dupItems)"
   ]
  },
  {
   "cell_type": "markdown",
   "id": "50119c33",
   "metadata": {},
   "source": [
    "O Write a Python program to find the Mean,median,mode among three given numbers"
   ]
  },
  {
   "cell_type": "code",
   "execution_count": 7,
   "id": "85185fef",
   "metadata": {},
   "outputs": [
    {
     "name": "stdout",
     "output_type": "stream",
     "text": [
      "Mean of given set of data values is 37\n",
      "Median of given set of data values is 40.0\n",
      "Mode of given set of data values is 40\n"
     ]
    }
   ],
   "source": [
    "import statistics\n",
    "my_set = [10, 20, 30, 30, 40, 40, 40, 50, 50, 60]  \n",
    "my_mode = statistics.mode(my_set) \n",
    "my_mean = statistics.mean(my_set)\n",
    "my_median = statistics.median(my_set)\n",
    "print(\"Mean of given set of data values is\", my_mean) \n",
    "print(\"Median of given set of data values is\", my_median) \n",
    "print(\"Mode of given set of data values is\", my_mode) "
   ]
  },
  {
   "cell_type": "markdown",
   "id": "097192ac",
   "metadata": {},
   "source": [
    "O Write a Python program to swap cases of a given string"
   ]
  },
  {
   "cell_type": "code",
   "execution_count": 8,
   "id": "b591a63a",
   "metadata": {},
   "outputs": [
    {
     "name": "stdout",
     "output_type": "stream",
     "text": [
      "PythON\n",
      "bOOTcAMP\n"
     ]
    }
   ],
   "source": [
    "string = \"pYTHon\"\n",
    "print(string.swapcase())   \n",
    "string = \"BootCamp\" \n",
    "print(string.swapcase())  "
   ]
  },
  {
   "cell_type": "markdown",
   "id": "98ce37a4",
   "metadata": {},
   "source": [
    "O Write a program to convert an integer to binary & octa decimal"
   ]
  },
  {
   "cell_type": "code",
   "execution_count": 9,
   "id": "2b09320e",
   "metadata": {},
   "outputs": [
    {
     "name": "stdout",
     "output_type": "stream",
     "text": [
      "Enter an integer: 80\n",
      "The decimal value is 80\n",
      "0b1010000 in Binary.\n",
      "0o120 in Octa Decimal.\n"
     ]
    }
   ],
   "source": [
    "dec = int(input(\"Enter an integer: \"))\n",
    "print(\"The decimal value is\", dec,)\n",
    "print(bin(dec), \"in Binary.\")\n",
    "print(oct(dec), \"in Octa Decimal.\")"
   ]
  },
  {
   "cell_type": "markdown",
   "id": "0a187312",
   "metadata": {},
   "source": [
    "O Write a Python program to check the sum of three elements and divided by a value which is given as an input by the user"
   ]
  },
  {
   "cell_type": "code",
   "execution_count": 11,
   "id": "888f148a",
   "metadata": {},
   "outputs": [
    {
     "name": "stdout",
     "output_type": "stream",
     "text": [
      "Please enter the Total Number of List Elements:3\n",
      "Please enter the Value of 1 Element:14\n",
      "Please enter the Value of 2 Element:67\n",
      "Please enter the Value of 3 Element:23\n",
      "Please enter the Number to divide:6\n",
      "The Sum of All Element in this List is: 104\n",
      "The Quotient of All Element in this List after divided by user defined integer value is: 17.333333333333332\n"
     ]
    }
   ],
   "source": [
    "NumList=[]\n",
    "Number=int(input(\"Please enter the Total Number of List Elements:\"))\n",
    "for i in range(1,Number+1):\n",
    "    value=int(input(\"Please enter the Value of %d Element:\"%i))\n",
    "    NumList.append(value)\n",
    "total=sum(NumList)\n",
    "Num=int(input(\"Please enter the Number to divide:\"))\n",
    "Div=total/Num\n",
    "print(\"The Sum of All Element in this List is:\", total)\n",
    "print(\"The Quotient of All Element in this List after divided by user defined integer value is:\", Div)"
   ]
  },
  {
   "cell_type": "markdown",
   "id": "f48cdff2",
   "metadata": {},
   "source": [
    "O Write a Python program to list number of items in a dictionary key and sort the list with the help of a function "
   ]
  },
  {
   "cell_type": "code",
   "execution_count": 13,
   "id": "7ef97604",
   "metadata": {},
   "outputs": [
    {
     "name": "stdout",
     "output_type": "stream",
     "text": [
      "Keys and Values after sorted\n",
      "[('Kane', 43), ('Tina', 54), ('Tom', 67), ('Divya', 73), ('Akbar', 87)]\n"
     ]
    }
   ],
   "source": [
    "def dictionairy():\n",
    "    key_value ={\"Tom\":67,\"Tina\":54,\"Akbar\":87,\"Kane\":43,\"Divya\":73}   \n",
    "    print (\"Keys and Values after sorted\")\n",
    "    print(sorted(key_value.items(), key =\n",
    "             lambda kv:(kv[1], kv[0])))   \n",
    "def main():\n",
    "    dictionairy()           \n",
    "if __name__==\"__main__\":     \n",
    "    main()"
   ]
  },
  {
   "cell_type": "markdown",
   "id": "0d4b74e3",
   "metadata": {},
   "source": [
    "O Write a Python program to list number of items in a dictionary key and sort the list without the function."
   ]
  },
  {
   "cell_type": "code",
   "execution_count": 14,
   "id": "83ef0f2f",
   "metadata": {},
   "outputs": [
    {
     "name": "stdout",
     "output_type": "stream",
     "text": [
      "Sorted Dictionary is: {'Kane': 43, 'Tina': 54, 'Tom': 67, 'Divya': 73, 'Akbar': 87}\n"
     ]
    }
   ],
   "source": [
    "key_value={\"Tom\":67,\"Tina\":54,\"Akbar\":87,\"Kane\":43,\"Divya\":73}\n",
    "marklist=sorted((value, key) for (key,value) in key_value.items())\n",
    "sortdict=dict([(k,v) for v,k in marklist])\n",
    "print(\"Sorted Dictionary is:\",sortdict)"
   ]
  },
  {
   "cell_type": "markdown",
   "id": "18d1ee33",
   "metadata": {},
   "source": [
    "O Write a Python program to get a string from a given string where all occurrences of its first char have been changed to capital letter.\n",
    " "
   ]
  },
  {
   "cell_type": "code",
   "execution_count": 16,
   "id": "c0b7cf7e",
   "metadata": {},
   "outputs": [
    {
     "name": "stdout",
     "output_type": "stream",
     "text": [
      "restaRt\n"
     ]
    }
   ],
   "source": [
    "def change_char(str1):\n",
    "  char=str1[0]\n",
    "  str1=str1.replace(char,'R')\n",
    "  str1=char+str1[1:]\n",
    "  return str1\n",
    "print(change_char('restart'))"
   ]
  }
 ],
 "metadata": {
  "kernelspec": {
   "display_name": "Python 3",
   "language": "python",
   "name": "python3"
  },
  "language_info": {
   "codemirror_mode": {
    "name": "ipython",
    "version": 3
   },
   "file_extension": ".py",
   "mimetype": "text/x-python",
   "name": "python",
   "nbconvert_exporter": "python",
   "pygments_lexer": "ipython3",
   "version": "3.8.8"
  }
 },
 "nbformat": 4,
 "nbformat_minor": 5
}
