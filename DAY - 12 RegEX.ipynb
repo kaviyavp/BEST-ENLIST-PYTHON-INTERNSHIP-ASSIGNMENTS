{
 "cells": [
  {
   "cell_type": "markdown",
   "id": "b504f538",
   "metadata": {},
   "source": [
    "# DAY 13 RegEX\n",
    "NAME : KAVIYA V"
   ]
  },
  {
   "cell_type": "markdown",
   "id": "c3fa5eff",
   "metadata": {},
   "source": [
    "Write a Python program for all the cases which can check a string contains only a certain set of characters (in this case a-z, A-Z and 0-9)."
   ]
  },
  {
   "cell_type": "code",
   "execution_count": 1,
   "id": "23f6b9fa",
   "metadata": {},
   "outputs": [
    {
     "name": "stdout",
     "output_type": "stream",
     "text": [
      "True\n",
      "False\n"
     ]
    }
   ],
   "source": [
    "import re\n",
    "def is_allowed_specific_char(string):\n",
    "    charRe=re.compile(r'[^a-zA-Z0-9.]')\n",
    "    string=charRe.search(string)\n",
    "    return not bool(string)\n",
    "print(is_allowed_specific_char(\"ABCDEFabcdef123450\")) \n",
    "print(is_allowed_specific_char(\"*&%@#!}{\"))"
   ]
  },
  {
   "cell_type": "markdown",
   "id": "6bfd5efc",
   "metadata": {},
   "source": [
    "Write a Python program that matches a word containing 'ab'."
   ]
  },
  {
   "cell_type": "code",
   "execution_count": 2,
   "id": "fdb40b52",
   "metadata": {},
   "outputs": [
    {
     "name": "stdout",
     "output_type": "stream",
     "text": [
      "Found a match!\n",
      "Not matched!\n"
     ]
    }
   ],
   "source": [
    "import re\n",
    "def text_match(text):\n",
    "    patterns = '\\w*ab.\\w*'\n",
    "    if re.search(patterns,  text):\n",
    "        return 'Found a match!'\n",
    "    else:\n",
    "        return('Not matched!')\n",
    "print(text_match(\"He can able to attend this.\"))\n",
    "print(text_match(\"Python Exercises.\"))"
   ]
  },
  {
   "cell_type": "markdown",
   "id": "3cb40b09",
   "metadata": {},
   "source": [
    "Write a Python program to check for a number at the end of a word/sentence."
   ]
  },
  {
   "cell_type": "code",
   "execution_count": 3,
   "id": "2debb9eb",
   "metadata": {},
   "outputs": [
    {
     "name": "stdout",
     "output_type": "stream",
     "text": [
      "False\n",
      "True\n"
     ]
    }
   ],
   "source": [
    "import re\n",
    "def end_num(string):\n",
    "    text = re.compile(r\".*[0-9]$\")\n",
    "    if text.match(string):\n",
    "        return True\n",
    "    else:\n",
    "        return False\n",
    "print(end_num('abcdef'))\n",
    "print(end_num('abcdef6'))"
   ]
  },
  {
   "cell_type": "markdown",
   "id": "acca71a6",
   "metadata": {},
   "source": [
    "Write a Python program to search the numbers (0-9) of length between 1 to 3 in a given string"
   ]
  },
  {
   "cell_type": "code",
   "execution_count": 4,
   "id": "0585ff41",
   "metadata": {},
   "outputs": [
    {
     "name": "stdout",
     "output_type": "stream",
     "text": [
      "Number of length 1 to 3\n",
      "1\n",
      "12\n",
      "13\n",
      "345\n"
     ]
    }
   ],
   "source": [
    "import re\n",
    "results = re.finditer(r\"([0-9]{1,3})\",\"Exercises number 1,12,13,and 345 are important\")\n",
    "print(\"Number of length 1 to 3\")\n",
    "for n in results:\n",
    "     print(n.group(0))"
   ]
  },
  {
   "cell_type": "code",
   "execution_count": null,
   "id": "81074066",
   "metadata": {},
   "outputs": [],
   "source": []
  },
  {
   "cell_type": "code",
   "execution_count": 7,
   "id": "ba64e552",
   "metadata": {},
   "outputs": [
    {
     "name": "stdout",
     "output_type": "stream",
     "text": [
      "No\n",
      "Yes\n"
     ]
    }
   ],
   "source": [
    "import re\n",
    "def match(text):\n",
    "    pattern='[A-Z]+$'\n",
    "    if re.search(pattern,text):\n",
    "        return('Yes')\n",
    "    else:\n",
    "        return('No')\n",
    "print(match(\"1234abdefgh\"))\n",
    "print(match(\"123ABCDEF\"))\n",
    "   "
   ]
  }
 ],
 "metadata": {
  "kernelspec": {
   "display_name": "Python 3",
   "language": "python",
   "name": "python3"
  },
  "language_info": {
   "codemirror_mode": {
    "name": "ipython",
    "version": 3
   },
   "file_extension": ".py",
   "mimetype": "text/x-python",
   "name": "python",
   "nbconvert_exporter": "python",
   "pygments_lexer": "ipython3",
   "version": "3.8.8"
  }
 },
 "nbformat": 4,
 "nbformat_minor": 5
}
