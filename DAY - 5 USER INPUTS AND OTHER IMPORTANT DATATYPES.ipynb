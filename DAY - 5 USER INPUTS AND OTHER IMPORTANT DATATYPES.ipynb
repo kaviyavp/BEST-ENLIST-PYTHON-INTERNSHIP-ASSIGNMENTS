{
 "cells": [
  {
   "cell_type": "markdown",
   "id": "a22dfe4a",
   "metadata": {},
   "source": [
    "# DAY 5 USER INPUTS AND OTHER IMPORTANT DATATYPES\n",
    "NAME : KAVIYA V"
   ]
  },
  {
   "cell_type": "markdown",
   "id": "c00e234a",
   "metadata": {},
   "source": [
    "# 1. a) Add an item in to the list (using function)"
   ]
  },
  {
   "cell_type": "code",
   "execution_count": 1,
   "id": "1b21f880",
   "metadata": {},
   "outputs": [
    {
     "name": "stdout",
     "output_type": "stream",
     "text": [
      "My List elements are: [100, 200, 300, 400, 500, 550, 600, 650, 700, 750]\n",
      "Please enter any number:\n",
      "800\n",
      "Updated List elements are: [100, 200, 300, 400, 500, 550, 600, 650, 700, 750, 800]\n"
     ]
    }
   ],
   "source": [
    "my_list = [100,200,300,400,500,550,600,650,700,750]\n",
    "print(\"My List elements are:\",my_list)\n",
    "a=int(input(\"Please enter any number:\\n\"))\n",
    "my_list.append(a)\n",
    "print(\"Updated List elements are:\",my_list)\n"
   ]
  },
  {
   "cell_type": "markdown",
   "id": "126550db",
   "metadata": {},
   "source": [
    "# b) Delete (using function)"
   ]
  },
  {
   "cell_type": "markdown",
   "id": "1c9ca8d1",
   "metadata": {},
   "source": [
    "1. del keyword:"
   ]
  },
  {
   "cell_type": "code",
   "execution_count": 2,
   "id": "8639ee3d",
   "metadata": {},
   "outputs": [
    {
     "name": "stdout",
     "output_type": "stream",
     "text": [
      "[100, 200, 300, 400, 550, 600, 650, 700, 750, 800]\n"
     ]
    }
   ],
   "source": [
    "del my_list[4]\n",
    "print(my_list)"
   ]
  },
  {
   "cell_type": "code",
   "execution_count": 3,
   "id": "c802c17f",
   "metadata": {},
   "outputs": [
    {
     "name": "stdout",
     "output_type": "stream",
     "text": [
      "[100, 200, 600, 650, 700, 750, 800]\n"
     ]
    }
   ],
   "source": [
    "del my_list[2:5]\n",
    "print(my_list)"
   ]
  },
  {
   "cell_type": "markdown",
   "id": "6e24ee7e",
   "metadata": {},
   "source": [
    "2. pop() function:"
   ]
  },
  {
   "cell_type": "code",
   "execution_count": 4,
   "id": "25be5e28",
   "metadata": {},
   "outputs": [
    {
     "name": "stdout",
     "output_type": "stream",
     "text": [
      "[100, 200, 600, 650, 700, 750]\n"
     ]
    }
   ],
   "source": [
    "my_list.pop()\n",
    "print(my_list)"
   ]
  },
  {
   "cell_type": "code",
   "execution_count": 5,
   "id": "597e6252",
   "metadata": {},
   "outputs": [
    {
     "name": "stdout",
     "output_type": "stream",
     "text": [
      "[200, 600, 650, 700, 750]\n"
     ]
    }
   ],
   "source": [
    "my_list.pop(0)  #delete the first element from the list\n",
    "print(my_list)"
   ]
  },
  {
   "cell_type": "markdown",
   "id": "cf54fe85",
   "metadata": {},
   "source": [
    "3. remove() function:"
   ]
  },
  {
   "cell_type": "code",
   "execution_count": 6,
   "id": "64537946",
   "metadata": {},
   "outputs": [
    {
     "name": "stdout",
     "output_type": "stream",
     "text": [
      "[200, 600, 650, 750]\n"
     ]
    }
   ],
   "source": [
    "my_list.remove(700)\n",
    "print(my_list)"
   ]
  },
  {
   "cell_type": "markdown",
   "id": "f80d2423",
   "metadata": {},
   "source": [
    "# c) Store the Smallest number from the list to a variable"
   ]
  },
  {
   "cell_type": "code",
   "execution_count": 7,
   "id": "f6e67aa8",
   "metadata": {},
   "outputs": [
    {
     "name": "stdout",
     "output_type": "stream",
     "text": [
      "Smal_Elem is: 200\n"
     ]
    }
   ],
   "source": [
    "s=min(my_list)\n",
    "print(\"Smal_Elem is:\",s)"
   ]
  },
  {
   "cell_type": "markdown",
   "id": "9da1c930",
   "metadata": {},
   "source": [
    "# d) Store the largest number from the list to a variable"
   ]
  },
  {
   "cell_type": "code",
   "execution_count": 8,
   "id": "4bff6229",
   "metadata": {},
   "outputs": [
    {
     "name": "stdout",
     "output_type": "stream",
     "text": [
      "Lar_Elem is: 750\n"
     ]
    }
   ],
   "source": [
    "l=max(my_list)\n",
    "print(\"Lar_Elem is:\",l)"
   ]
  },
  {
   "cell_type": "markdown",
   "id": "7b406854",
   "metadata": {},
   "source": [
    "# 2. Create a tuple and print the reverse of the created tuple"
   ]
  },
  {
   "cell_type": "code",
   "execution_count": 9,
   "id": "ac46c2fb",
   "metadata": {},
   "outputs": [
    {
     "name": "stdout",
     "output_type": "stream",
     "text": [
      "('Best Enlist', 'python', 8.01, 7.5, 19, 1)\n"
     ]
    }
   ],
   "source": [
    "my_tuple = (1,19,7.5,8.01,\"python\",\"Best Enlist\")\n",
    "my_tuple = my_tuple[::-1]\n",
    "print(my_tuple)"
   ]
  },
  {
   "cell_type": "markdown",
   "id": "3dd4eb0b",
   "metadata": {},
   "source": [
    "# 3. Create a tuple and convert tuple into list"
   ]
  },
  {
   "cell_type": "code",
   "execution_count": 10,
   "id": "8c14f731",
   "metadata": {},
   "outputs": [
    {
     "name": "stdout",
     "output_type": "stream",
     "text": [
      "[10, 20, 30, 40, 50]\n"
     ]
    }
   ],
   "source": [
    "value = (10,20,30,40,50)\n",
    "my_tuple = list(value)\n",
    "print(my_tuple)"
   ]
  }
 ],
 "metadata": {
  "kernelspec": {
   "display_name": "Python 3",
   "language": "python",
   "name": "python3"
  },
  "language_info": {
   "codemirror_mode": {
    "name": "ipython",
    "version": 3
   },
   "file_extension": ".py",
   "mimetype": "text/x-python",
   "name": "python",
   "nbconvert_exporter": "python",
   "pygments_lexer": "ipython3",
   "version": "3.8.8"
  }
 },
 "nbformat": 4,
 "nbformat_minor": 5
}
