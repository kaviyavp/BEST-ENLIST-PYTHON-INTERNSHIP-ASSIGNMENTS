{
 "cells": [
  {
   "cell_type": "markdown",
   "id": "aeabbfa0",
   "metadata": {},
   "source": [
    "# DAY 16 LAMBDA\n",
    "NAME : KAVIYA V"
   ]
  },
  {
   "cell_type": "markdown",
   "id": "0a6bfeb8",
   "metadata": {},
   "source": [
    "Create a lambda function that multiplies argument x with argument y"
   ]
  },
  {
   "cell_type": "code",
   "execution_count": 1,
   "id": "fbe5a726",
   "metadata": {},
   "outputs": [
    {
     "name": "stdout",
     "output_type": "stream",
     "text": [
      "Double the number of 15= 30\n",
      "Triple the number of 15= 45\n",
      "Quadruple the number of 15= 60\n",
      "Quintuple the number 15 = 75\n"
     ]
    }
   ],
   "source": [
    "def func_compute(y):\n",
    " return lambda x:x*y\n",
    "result = func_compute(2)\n",
    "print(\"Double the number of 15=\",result(15))\n",
    "result=func_compute(3)\n",
    "print(\"Triple the number of 15=\",result(15))\n",
    "result=func_compute(4)\n",
    "print(\"Quadruple the number of 15=\",result(15))\n",
    "result=func_compute(5)\n",
    "print(\"Quintuple the number 15 =\",result(15))"
   ]
  },
  {
   "cell_type": "markdown",
   "id": "145d1e56",
   "metadata": {},
   "source": [
    "Write a Python program to create Fibonacci series to n using Lambda"
   ]
  },
  {
   "cell_type": "code",
   "execution_count": 2,
   "id": "80d3ee90",
   "metadata": {},
   "outputs": [
    {
     "name": "stdout",
     "output_type": "stream",
     "text": [
      "Fibonacci series upto 2:\n",
      "[0, 1]\n",
      "\n",
      "Fibonacci series upto 5:\n",
      "[0, 1, 1, 2, 3]\n",
      "\n",
      "Fibonacci series upto 6:\n",
      "[0, 1, 1, 2, 3, 5]\n",
      "\n",
      "Fibonacci series upto 9:\n",
      "[0, 1, 1, 2, 3, 5, 8, 13, 21]\n"
     ]
    }
   ],
   "source": [
    "from functools import reduce\n",
    "fib_series=lambda n: reduce(lambda x,_:x+[x[-1]+x[-2]],\n",
    "                                range(n-2),[0,1])\n",
    "print(\"Fibonacci series upto 2:\")\n",
    "print(fib_series(2))\n",
    "print(\"\\nFibonacci series upto 5:\")\n",
    "print(fib_series(5))\n",
    "print(\"\\nFibonacci series upto 6:\")\n",
    "print(fib_series(6))\n",
    "print(\"\\nFibonacci series upto 9:\")\n",
    "print(fib_series(9))"
   ]
  },
  {
   "cell_type": "markdown",
   "id": "b1a1537d",
   "metadata": {},
   "source": [
    "Write a Python program that multiply each number of given list with a given number"
   ]
  },
  {
   "cell_type": "code",
   "execution_count": 3,
   "id": "0efcf76d",
   "metadata": {},
   "outputs": [
    {
     "name": "stdout",
     "output_type": "stream",
     "text": [
      "Original list: [2, 4, 6, 9, 11]\n",
      "Given number: 3\n",
      "Result:\n",
      "6 12 18 27 33\n"
     ]
    }
   ],
   "source": [
    "nums=[2,4,6,9,11]\n",
    "n=3\n",
    "print(\"Original list:\",nums)\n",
    "print(\"Given number:\",n)\n",
    "filtered_numbers=list(map(lambda number:number*n,nums))\n",
    "print(\"Result:\")\n",
    "print(' '.join(map(str,filtered_numbers)))"
   ]
  },
  {
   "cell_type": "markdown",
   "id": "9788400e",
   "metadata": {},
   "source": [
    "Write a Python program to find numbers divisible by 9 from a list of numbers"
   ]
  },
  {
   "cell_type": "code",
   "execution_count": 4,
   "id": "577d696b",
   "metadata": {},
   "outputs": [
    {
     "name": "stdout",
     "output_type": "stream",
     "text": [
      "Orginal list:\n",
      "[19, 65, 57, 39, 152, 639, 121, 44, 90, 190]\n",
      "\n",
      "Numbers of the above list divisible by nine:\n",
      "[639, 90]\n"
     ]
    }
   ],
   "source": [
    "nums=[19,65,57,39,152,639,121,44,90,190]\n",
    "print(\"Orginal list:\")\n",
    "print(nums) \n",
    "result=list(filter(lambda x:(x%9==0),nums)) \n",
    "print(\"\\nNumbers of the above list divisible by nine:\")\n",
    "print(result)"
   ]
  },
  {
   "cell_type": "markdown",
   "id": "2470e412",
   "metadata": {},
   "source": [
    "Write a Python program to count the even numbers in a given list of integers"
   ]
  },
  {
   "cell_type": "code",
   "execution_count": 5,
   "id": "f3860a2a",
   "metadata": {},
   "outputs": [
    {
     "name": "stdout",
     "output_type": "stream",
     "text": [
      "Even numbers in the list: 3\n"
     ]
    }
   ],
   "source": [
    "list1=[10,21,4,45,66,93,11]\n",
    "even_count=len(list(filter(lambda x:(x%2==0),list1)))\n",
    "print(\"Even numbers in the list:\",even_count)"
   ]
  }
 ],
 "metadata": {
  "kernelspec": {
   "display_name": "Python 3",
   "language": "python",
   "name": "python3"
  },
  "language_info": {
   "codemirror_mode": {
    "name": "ipython",
    "version": 3
   },
   "file_extension": ".py",
   "mimetype": "text/x-python",
   "name": "python",
   "nbconvert_exporter": "python",
   "pygments_lexer": "ipython3",
   "version": "3.8.8"
  }
 },
 "nbformat": 4,
 "nbformat_minor": 5
}
