{
 "cells": [
  {
   "cell_type": "code",
   "execution_count": 1,
   "id": "54a0bc01",
   "metadata": {},
   "outputs": [
    {
     "name": "stdout",
     "output_type": "stream",
     "text": [
      "Data type of a,b,c : <class 'int'>\n",
      "Divide a by 10\n",
      "800 / 10 = 80.0\n",
      "Multiply b by 50\n",
      "800 * 50 = 40000\n",
      "Add c by 60\n",
      "800 + 60 = 860\n"
     ]
    }
   ],
   "source": [
    "a=b=c=800\n",
    "print('Data type of a,b,c :',type(a))\n",
    "print('Divide a by 10')\n",
    "print(a,'/','10','=',a/10)\n",
    "print('Multiply b by 50')\n",
    "print(b,'*','50','=',b*50)\n",
    "print('Add c by 60')\n",
    "print(a,'+','60','=',c+60)\n"
   ]
  },
  {
   "cell_type": "code",
   "execution_count": 3,
   "id": "ea4393b0",
   "metadata": {},
   "outputs": [
    {
     "name": "stdout",
     "output_type": "stream",
     "text": [
      "Length of string is: 5\n",
      "Modified String: 19Gbd\n"
     ]
    }
   ],
   "source": [
    "my_string='19kbd'\n",
    "print('Length of string is:',len(my_string))\n",
    "b=my_string.replace('k','G')\n",
    "print('Modified String:',b)"
   ]
  },
  {
   "cell_type": "code",
   "execution_count": 7,
   "id": "f62a8933",
   "metadata": {},
   "outputs": [
    {
     "name": "stdout",
     "output_type": "stream",
     "text": [
      "a = 8\n",
      "b = 2.5\n",
      "Data type of a: <class 'int'>\n",
      "Data type of b: <class 'float'>\n",
      "Value of a and b after data type conversion is:\n",
      "a = 8.0\n",
      "b = 2\n",
      "Data type of a after conversion: <class 'float'>\n",
      "Data type of b after conversion: <class 'int'>\n"
     ]
    }
   ],
   "source": [
    "a,b=8,2.5\n",
    "print('a =',a)\n",
    "print('b =',b)\n",
    "print('Data type of a:',type(a))\n",
    "print('Data type of b:',type(b))\n",
    "a=float(a)\n",
    "b=int(b)\n",
    "print('Value of a and b after data type conversion is:')\n",
    "print('a =',a)\n",
    "print('b =',b)\n",
    "print('Data type of a after conversion:',type(a))\n",
    "print('Data type of b after conversion:',type(b))\n"
   ]
  },
  {
   "cell_type": "code",
   "execution_count": null,
   "id": "6d278781",
   "metadata": {},
   "outputs": [],
   "source": []
  }
 ],
 "metadata": {
  "kernelspec": {
   "display_name": "Python 3",
   "language": "python",
   "name": "python3"
  },
  "language_info": {
   "codemirror_mode": {
    "name": "ipython",
    "version": 3
   },
   "file_extension": ".py",
   "mimetype": "text/x-python",
   "name": "python",
   "nbconvert_exporter": "python",
   "pygments_lexer": "ipython3",
   "version": "3.9.4"
  }
 },
 "nbformat": 4,
 "nbformat_minor": 5
}
