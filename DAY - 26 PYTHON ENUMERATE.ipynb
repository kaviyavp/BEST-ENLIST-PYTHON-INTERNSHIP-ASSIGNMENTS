{
 "cells": [
  {
   "cell_type": "markdown",
   "id": "1df1836a",
   "metadata": {},
   "source": [
    "# DAY 26 PYTHON ENUMERATE\n",
    "NAME : KAVIYA V"
   ]
  },
  {
   "cell_type": "markdown",
   "id": "dbaf1ad7",
   "metadata": {},
   "source": [
    "Enumerate a python list and try to print the counter with the list value"
   ]
  },
  {
   "cell_type": "code",
   "execution_count": 1,
   "id": "e02eddb5",
   "metadata": {},
   "outputs": [
    {
     "name": "stdout",
     "output_type": "stream",
     "text": [
      "Counter({'x': 4, 'y': 2, 'z': 2})\n"
     ]
    }
   ],
   "source": [
    "from collections import Counter\n",
    "list1 = ['x','y','z','x','x','x','y','z']\n",
    "print(Counter(list1))"
   ]
  },
  {
   "cell_type": "markdown",
   "id": "63aedd79",
   "metadata": {},
   "source": [
    "Enumerate a python tuple and try to print the counter with the tuple value"
   ]
  },
  {
   "cell_type": "code",
   "execution_count": 2,
   "id": "46712497",
   "metadata": {},
   "outputs": [
    {
     "name": "stdout",
     "output_type": "stream",
     "text": [
      "Counter({'x': 4, 'y': 2, 'z': 2})\n"
     ]
    }
   ],
   "source": [
    "from collections import Counter\n",
    "tuple1 = ('x','y','z','x','x','x','y','z')\n",
    "print(Counter(tuple1))"
   ]
  }
 ],
 "metadata": {
  "kernelspec": {
   "display_name": "Python 3",
   "language": "python",
   "name": "python3"
  },
  "language_info": {
   "codemirror_mode": {
    "name": "ipython",
    "version": 3
   },
   "file_extension": ".py",
   "mimetype": "text/x-python",
   "name": "python",
   "nbconvert_exporter": "python",
   "pygments_lexer": "ipython3",
   "version": "3.9.4"
  }
 },
 "nbformat": 4,
 "nbformat_minor": 5
}
