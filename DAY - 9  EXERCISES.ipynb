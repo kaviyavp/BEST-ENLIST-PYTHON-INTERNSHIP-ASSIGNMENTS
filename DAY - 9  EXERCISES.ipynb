{
 "cells": [
  {
   "cell_type": "markdown",
   "id": "68689c50",
   "metadata": {},
   "source": [
    "# DAY 9 EXERCISES\n",
    "NAME : KAVIYA V"
   ]
  },
  {
   "cell_type": "markdown",
   "id": "f24b343e",
   "metadata": {},
   "source": [
    "O Write a program to get the below pattern 54321 4321 321 21 1"
   ]
  },
  {
   "cell_type": "code",
   "execution_count": 1,
   "id": "7d8f7376",
   "metadata": {},
   "outputs": [
    {
     "name": "stdout",
     "output_type": "stream",
     "text": [
      "Enter number: 5\n",
      "54321\n",
      "4321\n",
      "321\n",
      "21\n",
      "1\n"
     ]
    }
   ],
   "source": [
    "num=int(input('Enter number: ')) \n",
    "for i in range(num): \n",
    "    print(''.join(map(str,range(num-i,0,-1))))"
   ]
  },
  {
   "cell_type": "markdown",
   "id": "fd981f74",
   "metadata": {},
   "source": [
    "O Python Program to Print the Fibonacci sequence"
   ]
  },
  {
   "cell_type": "code",
   "execution_count": 2,
   "id": "7053f4a4",
   "metadata": {},
   "outputs": [
    {
     "name": "stdout",
     "output_type": "stream",
     "text": [
      "How many terms you want:10\n",
      "Fibonacci sequence:\n",
      "0\n",
      "1\n",
      "1\n",
      "2\n",
      "3\n",
      "5\n",
      "8\n",
      "13\n",
      "21\n",
      "34\n"
     ]
    }
   ],
   "source": [
    "n=int(input(\"How many terms you want:\"))\n",
    "n1,n2=0, 1\n",
    "count=0\n",
    "if n<=0:\n",
    "   print(\"Please enter a positive integer\")\n",
    "elif n==1:\n",
    "   print(\"Fibonacci sequence upto\",nterms,\":\")\n",
    "   print(n1)\n",
    "else:\n",
    "   print(\"Fibonacci sequence:\")\n",
    "   while count<n:\n",
    "       print(n1)\n",
    "       nth=n1+n2\n",
    "       n1=n2\n",
    "       n2=nth\n",
    "       count+=1"
   ]
  },
  {
   "cell_type": "markdown",
   "id": "8b1e3e18",
   "metadata": {},
   "source": [
    "O Explain Armstrong number and write a code with a function"
   ]
  },
  {
   "cell_type": "markdown",
   "id": "59dce76c",
   "metadata": {},
   "source": [
    "A number is an Armstrong number if it is equal to the sum of its own digits raised to the number of digits’ power. Let us understand Armstrong’s number by taking an example of a number. Let the number be n. Find out the number of digits in the number. Each digit in the number is taken and raised to the power n. All those are added together, and if the sum of all these numbers is equal to the number itself, then the number n is an Armstrong number. If not, the number n is not an Armstrong number."
   ]
  },
  {
   "cell_type": "code",
   "execution_count": 3,
   "id": "1bc7c6c9",
   "metadata": {},
   "outputs": [
    {
     "name": "stdout",
     "output_type": "stream",
     "text": [
      "\n",
      "Please Enter the Number to Check for Armstrong:370\n",
      "370 is an Armstrong Number.\n"
     ]
    }
   ],
   "source": [
    "# Code to find whether the user defined number is an armstrong number or not using function\n",
    "\n",
    "def Armstrong_Number(Number):\n",
    "           Sum=0\n",
    "           Times=0\n",
    "           Temp=Number\n",
    "           while Temp>0:\n",
    "                      Times=Times+1\n",
    "                      Temp=Temp//10\n",
    "           Temp=Number\n",
    "           for n in range(1,Temp+1):\n",
    "                      Reminder=Temp%10\n",
    "                      Sum=Sum+(Reminder**Times)\n",
    "                      Temp//=10\n",
    "           return Sum\n",
    "Number=int(input(\"\\nPlease Enter the Number to Check for Armstrong:\"))\n",
    "if (Number==Armstrong_Number(Number)):\n",
    "    print(\"%d is an Armstrong Number.\"%Number)\n",
    "else:\n",
    "    print(\"%d is Not an Armstrong Number.\"%Number)"
   ]
  },
  {
   "cell_type": "markdown",
   "id": "99c24698",
   "metadata": {},
   "source": [
    "O Write a program to print the multiplication table of 9"
   ]
  },
  {
   "cell_type": "code",
   "execution_count": 4,
   "id": "0ba76e40",
   "metadata": {},
   "outputs": [
    {
     "name": "stdout",
     "output_type": "stream",
     "text": [
      "Enter the number:9\n",
      "Multiplication Table of 9\n",
      "9 X 1 = 9\n",
      "9 X 2 = 18\n",
      "9 X 3 = 27\n",
      "9 X 4 = 36\n",
      "9 X 5 = 45\n",
      "9 X 6 = 54\n",
      "9 X 7 = 63\n",
      "9 X 8 = 72\n",
      "9 X 9 = 81\n",
      "9 X 10 = 90\n"
     ]
    }
   ],
   "source": [
    "num=int(input(\"Enter the number:\"))\n",
    "print(\"Multiplication Table of\",num)\n",
    "for i in range(1, 11):\n",
    "   print(num,\"X\",i,\"=\",num * i)"
   ]
  },
  {
   "cell_type": "markdown",
   "id": "2c547e6f",
   "metadata": {},
   "source": [
    "O Write a program to convert the number of days to ages"
   ]
  },
  {
   "cell_type": "code",
   "execution_count": 5,
   "id": "e125d18c",
   "metadata": {},
   "outputs": [
    {
     "name": "stdout",
     "output_type": "stream",
     "text": [
      "7307\n"
     ]
    }
   ],
   "source": [
    "from datetime import datetime, timedelta\n",
    "particular_date = datetime(2001,6,19)\n",
    "new_date = datetime.today() - particular_date\n",
    "print (new_date.days)"
   ]
  },
  {
   "cell_type": "markdown",
   "id": "6e0cda18",
   "metadata": {},
   "source": [
    "O Solve Trigonometry problem using math function write a program to solve using math function"
   ]
  },
  {
   "cell_type": "code",
   "execution_count": 6,
   "id": "5de64b64",
   "metadata": {},
   "outputs": [
    {
     "name": "stdout",
     "output_type": "stream",
     "text": [
      "The sine of the given number is: 0.8414709848078965\n",
      "The cosine of the given number is: 0.5403023058681398\n",
      "The tangent of the given number is: 1.5574077246549023\n",
      "The cosecant of the given number is: 1.5707963267948966\n",
      "The secant of the given number is: 0.0\n",
      "The cotangent of the given number is: 0.7853981633974483\n"
     ]
    }
   ],
   "source": [
    "import math\n",
    "x=1\n",
    "print(\"The sine of the given number is:\",math.sin(x));\n",
    "print(\"The cosine of the given number is:\",math.cos(x));\n",
    "print(\"The tangent of the given number is:\",math.tan(x));\n",
    "print(\"The cosecant of the given number is:\",math.asin(x))\n",
    "print(\"The secant of the given number is:\",math.acos(x))\n",
    "print(\"The cotangent of the given number is:\",math.atan(x))"
   ]
  },
  {
   "cell_type": "markdown",
   "id": "6eb36e6b",
   "metadata": {},
   "source": [
    "O Create a calculator only on a code level by using if condition (Basic arithmetic calculation)"
   ]
  },
  {
   "cell_type": "code",
   "execution_count": 7,
   "id": "263cd599",
   "metadata": {},
   "outputs": [
    {
     "name": "stdout",
     "output_type": "stream",
     "text": [
      "************CALCULATOR************\n",
      "1.ADD\n",
      "2.SUBRACT\n",
      "3.MULTIPLY\n",
      "4.DIVIDE\n",
      "Enter Choice(1-4): 2\n",
      "Enter A:56\n",
      "Enter B:34\n",
      "Difference =  22\n"
     ]
    }
   ],
   "source": [
    "print(\"************CALCULATOR************\")\n",
    "print(\"1.ADD\")\n",
    "print(\"2.SUBRACT\")\n",
    "print(\"3.MULTIPLY\")\n",
    "print(\"4.DIVIDE\")\n",
    "ch=int(input(\"Enter Choice(1-4): \"))\n",
    "if ch==1:\n",
    "    a=int(input(\"Enter A:\"))\n",
    "    b=int(input(\"Enter B:\"))\n",
    "    c=a+b\n",
    "    print(\"Sum =\",c)\n",
    "elif ch==2:\n",
    "    a=int(input(\"Enter A:\"))\n",
    "    b=int(input(\"Enter B:\"))\n",
    "    c=a-b\n",
    "    print(\"Difference = \",c)\n",
    "elif ch==3:\n",
    "    a=int(input(\"Enter A:\"))\n",
    "    b=int(input(\"Enter B:\"))\n",
    "    c=a*b\n",
    "    print(\"Product = \",c)\n",
    "elif ch==4:\n",
    "    a=int(input(\"Enter A:\"))\n",
    "    b=int(input(\"Enter B:\"))\n",
    "    c=a/b\n",
    "    print(\"Quotient = \",c)\n",
    "else:\n",
    "    print(\"Invalid Choice\")"
   ]
  },
  {
   "cell_type": "markdown",
   "id": "5d5e3156",
   "metadata": {},
   "source": [
    "O Check if a program is negative or positive"
   ]
  },
  {
   "cell_type": "code",
   "execution_count": 8,
   "id": "194a1657",
   "metadata": {},
   "outputs": [
    {
     "name": "stdout",
     "output_type": "stream",
     "text": [
      "Please Enter any Numeric Value:45\n",
      "45 is a Positive Number\n"
     ]
    }
   ],
   "source": [
    "number=int(input(\"Please Enter any Numeric Value:\"))\n",
    "if(number>0):\n",
    "    print(\"{0} is a Positive Number\".format(number))\n",
    "elif(number<0):\n",
    "    print(\"{0} is a Negative Number\".format(number))\n",
    "else:\n",
    "    print(\"You have entered Zero\")"
   ]
  },
  {
   "cell_type": "markdown",
   "id": "fd5d510b",
   "metadata": {},
   "source": [
    "O Write a program to loop through a list of numbers and add +2 to every value to elements in list"
   ]
  },
  {
   "cell_type": "code",
   "execution_count": 9,
   "id": "8e0d621e",
   "metadata": {},
   "outputs": [
    {
     "name": "stdout",
     "output_type": "stream",
     "text": [
      "1\n",
      "3\n",
      "5\n",
      "7\n",
      "9\n",
      "After the list elements incremented by 2 are:\n",
      " [3, 5, 7, 9, 11]\n"
     ]
    }
   ],
   "source": [
    "list=[1, 3, 5, 7, 9]\n",
    "length=len(list)\n",
    "i=0\n",
    "while(i<length):\n",
    "    print(list[i])\n",
    "    i+=1\n",
    "incremented_list=[i+2 for i in list]\n",
    "print(\"After the list elements incremented by 2 are:\\n\",incremented_list)"
   ]
  }
 ],
 "metadata": {
  "kernelspec": {
   "display_name": "Python 3",
   "language": "python",
   "name": "python3"
  },
  "language_info": {
   "codemirror_mode": {
    "name": "ipython",
    "version": 3
   },
   "file_extension": ".py",
   "mimetype": "text/x-python",
   "name": "python",
   "nbconvert_exporter": "python",
   "pygments_lexer": "ipython3",
   "version": "3.8.8"
  }
 },
 "nbformat": 4,
 "nbformat_minor": 5
}
